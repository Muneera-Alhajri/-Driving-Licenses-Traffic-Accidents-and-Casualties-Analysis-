{
 "cells": [
  {
   "cell_type": "markdown",
   "metadata": {},
   "source": [
    "# Project 1: Driving Licenses, Traffic Accidents and Casualties Analysis"
   ]
  },
  {
   "cell_type": "markdown",
   "metadata": {},
   "source": [
    "## Problem Statment\n",
    "\n",
    "The project to study traffic and accident in some regions in Saudi Arabia along years (1993 to 2017) it two data set describe the driving licenses and traffic accidents including the number of dead and injured. By using data of driving licenses and traffic accidents, we will help to find associations that can lead us to solutions."
   ]
  },
  {
   "cell_type": "markdown",
   "metadata": {},
   "source": [
    "## Executive Summary\n",
    "In this project we worked on two data sets: driving licenses, and traffic accidents, and we find some associations that we build our recommendations to find solutions. We find that there is a huge difference between the three largest regions and the other regions in Saudi Arabia, these regions are Makkah, Riyadh, and Eastern. We also find that the number of accidents is decreasing through the years while the number of licenses is increasing, Which is an excellent predictor. "
   ]
  },
  {
   "cell_type": "markdown",
   "metadata": {},
   "source": [
    "### Contents:\n",
    "- [Datasets Description](#Datasets-Description)\n",
    "- [Data Import & Cleaning](#Data-Import-and-Cleaning)\n",
    "- [Exploratory Data Analysis](#Exploratory-Data-Analysis)\n",
    "- [Data Visualization](#Visualize-the-data)\n",
    "- [Descriptive and Inferential Statistics](#Descriptive-and-Inferential-Statistics)\n",
    "- [Outside Research](#Outside-Research)\n",
    "- [Conclusions and Recommendations](#Conclusions-and-Recommendations)"
   ]
  },
  {
   "cell_type": "markdown",
   "metadata": {},
   "source": [
    "**If you combine your problem statement, executive summary, data dictionary, and conclusions/recommendations, you have an amazing README.md file that quickly aligns your audience to the contents of your project.** Don't forget to cite your data sources!"
   ]
  },
  {
   "cell_type": "markdown",
   "metadata": {},
   "source": [
    "*All libraries used should be added here, including any Jupyter magic commands*"
   ]
  },
  {
   "cell_type": "code",
   "execution_count": 1267,
   "metadata": {},
   "outputs": [],
   "source": [
    "#Imports\n",
    "import pandas as pd\n",
    "import numpy as np\n",
    "from scipy import stats\n",
    "import seaborn as sns\n",
    "import matplotlib.pyplot as plt"
   ]
  },
  {
   "cell_type": "markdown",
   "metadata": {},
   "source": [
    "## Datasets Description\n",
    "\n",
    "[Driving Licenses](https://datasource.kapsarc.org/explore/dataset/saudi-arabia-driving-licenses-issued-in-the-kingdom-2004-2008/information/?disjunctive.administritive_area&sort=time_period&location=5,24.37495,45.08024&basemap=jawg.streets)\n",
    "This dataset contains Saudi Arabia Driving Licenses Issued By Administrative Area for 1993 - 2016. Data from General Authority for Statistics . Follow datasource.kapsarc.org for timely data to advance energy economics research[1].\n",
    "\n",
    "[Traffic Accidents and Casualties](https://datasource.kapsarc.org/explore/dataset/saudi-arabia-traffic-accidents-and-casualties-injured-dead-2008/export/?disjunctive.region&disjunctive.indicator&sort=time_period)\n",
    "This dataset contains Saudi Arabia Traffic Accidents and Casualties by Region for 2016. Data from General Authority for Statistics. Follow datasource.kapsarc.org for timely data to advance energy economics research[2].\n"
   ]
  },
  {
   "cell_type": "markdown",
   "metadata": {},
   "source": [
    "## Data Import and Cleaning"
   ]
  },
  {
   "cell_type": "markdown",
   "metadata": {},
   "source": [
    "#### 1. Read In Driving Licenses & Traffic Accidents Data\n",
    "Read in the `saudi-arabia-traffic-accidents-2008.csv` and `saudi-arabia-driving-licenses-2004-2008.csv` files and assign them to appropriately named pandas dataframes."
   ]
  },
  {
   "cell_type": "code",
   "execution_count": 1268,
   "metadata": {},
   "outputs": [],
   "source": [
    "#Code\n",
    "licenses=pd.read_csv('../data/saudi-arabia-driving-licenses-2004-2008.csv',sep=';')\n",
    "traffic=pd.read_csv('../data/saudi-arabia-traffic-accidents-2008.csv',sep=';')"
   ]
  },
  {
   "cell_type": "markdown",
   "metadata": {},
   "source": [
    "#### 2. Display data\n",
    "\n",
    "Print the first 10 rows of each dataframe to your jupyter notebook"
   ]
  },
  {
   "cell_type": "code",
   "execution_count": 1269,
   "metadata": {},
   "outputs": [
    {
     "data": {
      "text/html": [
       "<div>\n",
       "<style scoped>\n",
       "    .dataframe tbody tr th:only-of-type {\n",
       "        vertical-align: middle;\n",
       "    }\n",
       "\n",
       "    .dataframe tbody tr th {\n",
       "        vertical-align: top;\n",
       "    }\n",
       "\n",
       "    .dataframe thead th {\n",
       "        text-align: right;\n",
       "    }\n",
       "</style>\n",
       "<table border=\"1\" class=\"dataframe\">\n",
       "  <thead>\n",
       "    <tr style=\"text-align: right;\">\n",
       "      <th></th>\n",
       "      <th>Unnamed: 0</th>\n",
       "      <th>Year</th>\n",
       "      <th>Administritive Area</th>\n",
       "      <th>Driving Liceses</th>\n",
       "      <th>geo_point_2d</th>\n",
       "    </tr>\n",
       "  </thead>\n",
       "  <tbody>\n",
       "    <tr>\n",
       "      <th>0</th>\n",
       "      <td>0</td>\n",
       "      <td>(2012)</td>\n",
       "      <td>Makkah</td>\n",
       "      <td>143954n</td>\n",
       "      <td>21.628962766, 41.2636898334</td>\n",
       "    </tr>\n",
       "    <tr>\n",
       "      <th>1</th>\n",
       "      <td>1</td>\n",
       "      <td>(1994)</td>\n",
       "      <td>Makkah</td>\n",
       "      <td>75349n</td>\n",
       "      <td>21.628962766, 41.2636898334</td>\n",
       "    </tr>\n",
       "    <tr>\n",
       "      <th>2</th>\n",
       "      <td>2</td>\n",
       "      <td>(1998)</td>\n",
       "      <td>Makkah</td>\n",
       "      <td>86082n</td>\n",
       "      <td>21.628962766, 41.2636898334</td>\n",
       "    </tr>\n",
       "    <tr>\n",
       "      <th>3</th>\n",
       "      <td>3</td>\n",
       "      <td>(2004)</td>\n",
       "      <td>Makkah</td>\n",
       "      <td>86636n</td>\n",
       "      <td>21.628962766, 41.2636898334</td>\n",
       "    </tr>\n",
       "    <tr>\n",
       "      <th>4</th>\n",
       "      <td>4</td>\n",
       "      <td>(2005)</td>\n",
       "      <td>Makkah</td>\n",
       "      <td>65099n</td>\n",
       "      <td>21.628962766, 41.2636898334</td>\n",
       "    </tr>\n",
       "    <tr>\n",
       "      <th>5</th>\n",
       "      <td>5</td>\n",
       "      <td>(2008)</td>\n",
       "      <td>Makkah</td>\n",
       "      <td>77013n</td>\n",
       "      <td>21.628962766, 41.2636898334</td>\n",
       "    </tr>\n",
       "    <tr>\n",
       "      <th>6</th>\n",
       "      <td>6</td>\n",
       "      <td>(2014)</td>\n",
       "      <td>Madinah</td>\n",
       "      <td>31447n</td>\n",
       "      <td>24.927534539, 39.4918237173</td>\n",
       "    </tr>\n",
       "    <tr>\n",
       "      <th>7</th>\n",
       "      <td>7</td>\n",
       "      <td>(2013)</td>\n",
       "      <td>Madinah</td>\n",
       "      <td>28513n</td>\n",
       "      <td>24.927534539, 39.4918237173</td>\n",
       "    </tr>\n",
       "    <tr>\n",
       "      <th>8</th>\n",
       "      <td>8</td>\n",
       "      <td>(2012)</td>\n",
       "      <td>Madinah</td>\n",
       "      <td>14459n</td>\n",
       "      <td>24.927534539, 39.4918237173</td>\n",
       "    </tr>\n",
       "    <tr>\n",
       "      <th>9</th>\n",
       "      <td>9</td>\n",
       "      <td>(1994)</td>\n",
       "      <td>Madinah</td>\n",
       "      <td>3767n</td>\n",
       "      <td>24.927534539, 39.4918237173</td>\n",
       "    </tr>\n",
       "  </tbody>\n",
       "</table>\n",
       "</div>"
      ],
      "text/plain": [
       "   Unnamed: 0    Year Administritive Area Driving Liceses  \\\n",
       "0           0  (2012)              Makkah         143954n   \n",
       "1           1  (1994)              Makkah          75349n   \n",
       "2           2  (1998)              Makkah          86082n   \n",
       "3           3  (2004)              Makkah          86636n   \n",
       "4           4  (2005)              Makkah          65099n   \n",
       "5           5  (2008)              Makkah          77013n   \n",
       "6           6  (2014)             Madinah          31447n   \n",
       "7           7  (2013)             Madinah          28513n   \n",
       "8           8  (2012)             Madinah          14459n   \n",
       "9           9  (1994)             Madinah           3767n   \n",
       "\n",
       "                  geo_point_2d  \n",
       "0  21.628962766, 41.2636898334  \n",
       "1  21.628962766, 41.2636898334  \n",
       "2  21.628962766, 41.2636898334  \n",
       "3  21.628962766, 41.2636898334  \n",
       "4  21.628962766, 41.2636898334  \n",
       "5  21.628962766, 41.2636898334  \n",
       "6  24.927534539, 39.4918237173  \n",
       "7  24.927534539, 39.4918237173  \n",
       "8  24.927534539, 39.4918237173  \n",
       "9  24.927534539, 39.4918237173  "
      ]
     },
     "execution_count": 1269,
     "metadata": {},
     "output_type": "execute_result"
    }
   ],
   "source": [
    "#licenses Code\n",
    "licenses.head(10)"
   ]
  },
  {
   "cell_type": "code",
   "execution_count": 1270,
   "metadata": {},
   "outputs": [
    {
     "data": {
      "text/html": [
       "<div>\n",
       "<style scoped>\n",
       "    .dataframe tbody tr th:only-of-type {\n",
       "        vertical-align: middle;\n",
       "    }\n",
       "\n",
       "    .dataframe tbody tr th {\n",
       "        vertical-align: top;\n",
       "    }\n",
       "\n",
       "    .dataframe thead th {\n",
       "        text-align: right;\n",
       "    }\n",
       "</style>\n",
       "<table border=\"1\" class=\"dataframe\">\n",
       "  <thead>\n",
       "    <tr style=\"text-align: right;\">\n",
       "      <th></th>\n",
       "      <th>Unnamed: 0</th>\n",
       "      <th>Unnamed: 0.1</th>\n",
       "      <th>Year</th>\n",
       "      <th>Region</th>\n",
       "      <th>Indicator</th>\n",
       "      <th>Value</th>\n",
       "      <th>geo_point_2d</th>\n",
       "    </tr>\n",
       "  </thead>\n",
       "  <tbody>\n",
       "    <tr>\n",
       "      <th>0</th>\n",
       "      <td>0</td>\n",
       "      <td>0</td>\n",
       "      <td>(2016)</td>\n",
       "      <td>Makkah</td>\n",
       "      <td>No. of Casualties - Injured</td>\n",
       "      <td>12383n</td>\n",
       "      <td>21.628962766, 41.2636898334</td>\n",
       "    </tr>\n",
       "    <tr>\n",
       "      <th>1</th>\n",
       "      <td>1</td>\n",
       "      <td>1</td>\n",
       "      <td>(2016)</td>\n",
       "      <td>Eastern Region</td>\n",
       "      <td>No. of Casualties - Dead</td>\n",
       "      <td>1113n</td>\n",
       "      <td>23.2883307307, 50.1478302439</td>\n",
       "    </tr>\n",
       "    <tr>\n",
       "      <th>2</th>\n",
       "      <td>2</td>\n",
       "      <td>2</td>\n",
       "      <td>(2016)</td>\n",
       "      <td>Tabouk</td>\n",
       "      <td>No. of Casualties - Dead</td>\n",
       "      <td>434n</td>\n",
       "      <td>27.90165499, 37.2598581394</td>\n",
       "    </tr>\n",
       "    <tr>\n",
       "      <th>3</th>\n",
       "      <td>3</td>\n",
       "      <td>3</td>\n",
       "      <td>(2016)</td>\n",
       "      <td>Hail</td>\n",
       "      <td>No. of Casualties - Dead</td>\n",
       "      <td>299n</td>\n",
       "      <td>27.400845724, 41.4406960508</td>\n",
       "    </tr>\n",
       "    <tr>\n",
       "      <th>4</th>\n",
       "      <td>4</td>\n",
       "      <td>4</td>\n",
       "      <td>(2016)</td>\n",
       "      <td>Hail</td>\n",
       "      <td>No. of Accidents</td>\n",
       "      <td>10199n</td>\n",
       "      <td>27.400845724, 41.4406960508</td>\n",
       "    </tr>\n",
       "    <tr>\n",
       "      <th>5</th>\n",
       "      <td>5</td>\n",
       "      <td>5</td>\n",
       "      <td>(2016)</td>\n",
       "      <td>Northern Boarder</td>\n",
       "      <td>No. of Casualties - Dead</td>\n",
       "      <td>193n</td>\n",
       "      <td>30.197074783, 41.8171186952</td>\n",
       "    </tr>\n",
       "    <tr>\n",
       "      <th>6</th>\n",
       "      <td>6</td>\n",
       "      <td>6</td>\n",
       "      <td>(2017)</td>\n",
       "      <td>Jazan</td>\n",
       "      <td>No. of Accidents</td>\n",
       "      <td>22161n</td>\n",
       "      <td>17.2072313962, 42.6525807422</td>\n",
       "    </tr>\n",
       "    <tr>\n",
       "      <th>7</th>\n",
       "      <td>7</td>\n",
       "      <td>7</td>\n",
       "      <td>(2017)</td>\n",
       "      <td>Al-Jouf</td>\n",
       "      <td>No. of Accidents</td>\n",
       "      <td>10469n</td>\n",
       "      <td>29.9677445762, 39.5570371172</td>\n",
       "    </tr>\n",
       "    <tr>\n",
       "      <th>8</th>\n",
       "      <td>8</td>\n",
       "      <td>8</td>\n",
       "      <td>(2017)</td>\n",
       "      <td>Total</td>\n",
       "      <td>No. of Casualties - Dead</td>\n",
       "      <td>7489n</td>\n",
       "      <td>NaN</td>\n",
       "    </tr>\n",
       "    <tr>\n",
       "      <th>9</th>\n",
       "      <td>9</td>\n",
       "      <td>9</td>\n",
       "      <td>(2016)</td>\n",
       "      <td>Northern Boarder</td>\n",
       "      <td>No. of Casualties - Injured</td>\n",
       "      <td>631n</td>\n",
       "      <td>30.197074783, 41.8171186952</td>\n",
       "    </tr>\n",
       "  </tbody>\n",
       "</table>\n",
       "</div>"
      ],
      "text/plain": [
       "   Unnamed: 0  Unnamed: 0.1    Year            Region  \\\n",
       "0           0             0  (2016)            Makkah   \n",
       "1           1             1  (2016)    Eastern Region   \n",
       "2           2             2  (2016)            Tabouk   \n",
       "3           3             3  (2016)              Hail   \n",
       "4           4             4  (2016)              Hail   \n",
       "5           5             5  (2016)  Northern Boarder   \n",
       "6           6             6  (2017)             Jazan   \n",
       "7           7             7  (2017)           Al-Jouf   \n",
       "8           8             8  (2017)             Total   \n",
       "9           9             9  (2016)  Northern Boarder   \n",
       "\n",
       "                     Indicator   Value                  geo_point_2d  \n",
       "0  No. of Casualties - Injured  12383n   21.628962766, 41.2636898334  \n",
       "1     No. of Casualties - Dead   1113n  23.2883307307, 50.1478302439  \n",
       "2     No. of Casualties - Dead    434n    27.90165499, 37.2598581394  \n",
       "3     No. of Casualties - Dead    299n   27.400845724, 41.4406960508  \n",
       "4             No. of Accidents  10199n   27.400845724, 41.4406960508  \n",
       "5     No. of Casualties - Dead    193n   30.197074783, 41.8171186952  \n",
       "6             No. of Accidents  22161n  17.2072313962, 42.6525807422  \n",
       "7             No. of Accidents  10469n  29.9677445762, 39.5570371172  \n",
       "8     No. of Casualties - Dead   7489n                           NaN  \n",
       "9  No. of Casualties - Injured    631n   30.197074783, 41.8171186952  "
      ]
     },
     "execution_count": 1270,
     "metadata": {},
     "output_type": "execute_result"
    }
   ],
   "source": [
    "#traffic code\n",
    "traffic.head(10)"
   ]
  },
  {
   "cell_type": "code",
   "execution_count": 1271,
   "metadata": {},
   "outputs": [],
   "source": [
    "# Drop unmeaning columns\n",
    "traffic.drop(columns=['Unnamed: 0'], inplace=True)\n",
    "traffic.drop(columns=['Unnamed: 0.1'], inplace=True) \n",
    "licenses.drop(columns=['Unnamed: 0'], inplace=True)"
   ]
  },
  {
   "cell_type": "code",
   "execution_count": 1272,
   "metadata": {},
   "outputs": [],
   "source": [
    "# Delete square brackets from year col in traffic dataset\n",
    "pattern_brackets = [r'\\(*\\)','\\(?']\n",
    "pattern_digit = r'[^0-9]'\n",
    "traffic.Year.replace(pattern_brackets, '', inplace=True, regex=True)\n",
    "licenses.Year.replace(pattern_brackets, '', inplace=True, regex=True)\n",
    "\n",
    "# Delete letters from Value in traffic and Driving Liceses in licenses\n",
    "traffic.Value.replace(pattern_digit, '', inplace=True, regex=True)\n",
    "licenses['Driving Liceses'].replace(pattern_digit, '', inplace=True, regex=True)"
   ]
  },
  {
   "cell_type": "code",
   "execution_count": 1277,
   "metadata": {},
   "outputs": [
    {
     "data": {
      "text/plain": [
       "array(['No. of Casualties - Injured', 'No. of Casualties - Dead',\n",
       "       'No. of Accidents'], dtype=object)"
      ]
     },
     "execution_count": 1277,
     "metadata": {},
     "output_type": "execute_result"
    }
   ],
   "source": [
    "traffic.Indicator.unique()"
   ]
  },
  {
   "cell_type": "markdown",
   "metadata": {},
   "source": [
    "#### 3. Briefly describe the data\n",
    "\n",
    "Take your time looking through the data and briefly describe the data in the markdown cell below. Note things about what the columns might mean, and the general information that is conveyed in the dataframe."
   ]
  },
  {
   "cell_type": "markdown",
   "metadata": {},
   "source": [
    "Answer:\n",
    "The driving-licenses dataset has 350 record and 5 columns which is Year: contains driving licenses year between 1993 and 2017,Administritive Area column that contain 25 differente area around KSA, geo_point_2d column contains the coorinate location and there are a missing values in this column.\n",
    "\n",
    "Traffic-accidents dataset has 84 record and 5 columns which are Year: All accident happened between 2016 and 2017. Region: 14 different region and 3 type of accident. geo_point_2d: it's refering to region location, we can fill missing values with refering to region value.\n"
   ]
  },
  {
   "cell_type": "markdown",
   "metadata": {},
   "source": [
    "#### 4a. How complete is the data?\n",
    "\n",
    "Investigate missing values etc."
   ]
  },
  {
   "cell_type": "code",
   "execution_count": 1278,
   "metadata": {},
   "outputs": [
    {
     "data": {
      "text/html": [
       "<div>\n",
       "<style scoped>\n",
       "    .dataframe tbody tr th:only-of-type {\n",
       "        vertical-align: middle;\n",
       "    }\n",
       "\n",
       "    .dataframe tbody tr th {\n",
       "        vertical-align: top;\n",
       "    }\n",
       "\n",
       "    .dataframe thead th {\n",
       "        text-align: right;\n",
       "    }\n",
       "</style>\n",
       "<table border=\"1\" class=\"dataframe\">\n",
       "  <thead>\n",
       "    <tr style=\"text-align: right;\">\n",
       "      <th></th>\n",
       "      <th>Year</th>\n",
       "      <th>Administritive Area</th>\n",
       "      <th>Driving Liceses</th>\n",
       "      <th>geo_point_2d</th>\n",
       "    </tr>\n",
       "  </thead>\n",
       "  <tbody>\n",
       "    <tr>\n",
       "      <th>58</th>\n",
       "      <td>2015</td>\n",
       "      <td>Total</td>\n",
       "      <td>435439</td>\n",
       "      <td>NaN</td>\n",
       "    </tr>\n",
       "    <tr>\n",
       "      <th>59</th>\n",
       "      <td>2017</td>\n",
       "      <td>Total</td>\n",
       "      <td>928165</td>\n",
       "      <td>NaN</td>\n",
       "    </tr>\n",
       "    <tr>\n",
       "      <th>60</th>\n",
       "      <td>1993</td>\n",
       "      <td>Total</td>\n",
       "      <td>294893</td>\n",
       "      <td>NaN</td>\n",
       "    </tr>\n",
       "    <tr>\n",
       "      <th>61</th>\n",
       "      <td>1994</td>\n",
       "      <td>Total</td>\n",
       "      <td>303520</td>\n",
       "      <td>NaN</td>\n",
       "    </tr>\n",
       "    <tr>\n",
       "      <th>62</th>\n",
       "      <td>2003</td>\n",
       "      <td>Total</td>\n",
       "      <td>254858</td>\n",
       "      <td>NaN</td>\n",
       "    </tr>\n",
       "    <tr>\n",
       "      <th>63</th>\n",
       "      <td>2006</td>\n",
       "      <td>Total</td>\n",
       "      <td>267508</td>\n",
       "      <td>NaN</td>\n",
       "    </tr>\n",
       "    <tr>\n",
       "      <th>142</th>\n",
       "      <td>2014</td>\n",
       "      <td>Total</td>\n",
       "      <td>625414</td>\n",
       "      <td>NaN</td>\n",
       "    </tr>\n",
       "    <tr>\n",
       "      <th>143</th>\n",
       "      <td>2010</td>\n",
       "      <td>Total</td>\n",
       "      <td>386510</td>\n",
       "      <td>NaN</td>\n",
       "    </tr>\n",
       "    <tr>\n",
       "      <th>144</th>\n",
       "      <td>2012</td>\n",
       "      <td>Total</td>\n",
       "      <td>411204</td>\n",
       "      <td>NaN</td>\n",
       "    </tr>\n",
       "    <tr>\n",
       "      <th>145</th>\n",
       "      <td>1999</td>\n",
       "      <td>Total</td>\n",
       "      <td>332210</td>\n",
       "      <td>NaN</td>\n",
       "    </tr>\n",
       "    <tr>\n",
       "      <th>146</th>\n",
       "      <td>2002</td>\n",
       "      <td>Total</td>\n",
       "      <td>282038</td>\n",
       "      <td>NaN</td>\n",
       "    </tr>\n",
       "    <tr>\n",
       "      <th>147</th>\n",
       "      <td>2001</td>\n",
       "      <td>Total</td>\n",
       "      <td>264725</td>\n",
       "      <td>NaN</td>\n",
       "    </tr>\n",
       "    <tr>\n",
       "      <th>148</th>\n",
       "      <td>2004</td>\n",
       "      <td>Total</td>\n",
       "      <td>268738</td>\n",
       "      <td>NaN</td>\n",
       "    </tr>\n",
       "    <tr>\n",
       "      <th>149</th>\n",
       "      <td>2005</td>\n",
       "      <td>Total</td>\n",
       "      <td>251203</td>\n",
       "      <td>NaN</td>\n",
       "    </tr>\n",
       "    <tr>\n",
       "      <th>150</th>\n",
       "      <td>2009</td>\n",
       "      <td>Total</td>\n",
       "      <td>376275</td>\n",
       "      <td>NaN</td>\n",
       "    </tr>\n",
       "    <tr>\n",
       "      <th>162</th>\n",
       "      <td>2011</td>\n",
       "      <td>Total</td>\n",
       "      <td>400558</td>\n",
       "      <td>NaN</td>\n",
       "    </tr>\n",
       "    <tr>\n",
       "      <th>163</th>\n",
       "      <td>2000</td>\n",
       "      <td>Total</td>\n",
       "      <td>273238</td>\n",
       "      <td>NaN</td>\n",
       "    </tr>\n",
       "    <tr>\n",
       "      <th>164</th>\n",
       "      <td>2007</td>\n",
       "      <td>Total</td>\n",
       "      <td>331356</td>\n",
       "      <td>NaN</td>\n",
       "    </tr>\n",
       "    <tr>\n",
       "      <th>165</th>\n",
       "      <td>2008</td>\n",
       "      <td>Total</td>\n",
       "      <td>330158</td>\n",
       "      <td>NaN</td>\n",
       "    </tr>\n",
       "    <tr>\n",
       "      <th>239</th>\n",
       "      <td>2013</td>\n",
       "      <td>Total</td>\n",
       "      <td>565314</td>\n",
       "      <td>NaN</td>\n",
       "    </tr>\n",
       "    <tr>\n",
       "      <th>240</th>\n",
       "      <td>1995</td>\n",
       "      <td>Total</td>\n",
       "      <td>251878</td>\n",
       "      <td>NaN</td>\n",
       "    </tr>\n",
       "    <tr>\n",
       "      <th>314</th>\n",
       "      <td>2016</td>\n",
       "      <td>Total</td>\n",
       "      <td>697017</td>\n",
       "      <td>NaN</td>\n",
       "    </tr>\n",
       "    <tr>\n",
       "      <th>315</th>\n",
       "      <td>1997</td>\n",
       "      <td>Total</td>\n",
       "      <td>289296</td>\n",
       "      <td>NaN</td>\n",
       "    </tr>\n",
       "    <tr>\n",
       "      <th>316</th>\n",
       "      <td>1996</td>\n",
       "      <td>Total</td>\n",
       "      <td>237623</td>\n",
       "      <td>NaN</td>\n",
       "    </tr>\n",
       "    <tr>\n",
       "      <th>317</th>\n",
       "      <td>1998</td>\n",
       "      <td>Total</td>\n",
       "      <td>338350</td>\n",
       "      <td>NaN</td>\n",
       "    </tr>\n",
       "  </tbody>\n",
       "</table>\n",
       "</div>"
      ],
      "text/plain": [
       "     Year Administritive Area Driving Liceses geo_point_2d\n",
       "58   2015               Total          435439          NaN\n",
       "59   2017               Total          928165          NaN\n",
       "60   1993               Total          294893          NaN\n",
       "61   1994               Total          303520          NaN\n",
       "62   2003               Total          254858          NaN\n",
       "63   2006               Total          267508          NaN\n",
       "142  2014               Total          625414          NaN\n",
       "143  2010               Total          386510          NaN\n",
       "144  2012               Total          411204          NaN\n",
       "145  1999               Total          332210          NaN\n",
       "146  2002               Total          282038          NaN\n",
       "147  2001               Total          264725          NaN\n",
       "148  2004               Total          268738          NaN\n",
       "149  2005               Total          251203          NaN\n",
       "150  2009               Total          376275          NaN\n",
       "162  2011               Total          400558          NaN\n",
       "163  2000               Total          273238          NaN\n",
       "164  2007               Total          331356          NaN\n",
       "165  2008               Total          330158          NaN\n",
       "239  2013               Total          565314          NaN\n",
       "240  1995               Total          251878          NaN\n",
       "314  2016               Total          697017          NaN\n",
       "315  1997               Total          289296          NaN\n",
       "316  1996               Total          237623          NaN\n",
       "317  1998               Total          338350          NaN"
      ]
     },
     "execution_count": 1278,
     "metadata": {},
     "output_type": "execute_result"
    }
   ],
   "source": [
    "#Missing values in Geo_point column in licenses dataset\n",
    "licenses.describe()\n",
    "licenses[licenses.isna().any(axis=1)]"
   ]
  },
  {
   "cell_type": "code",
   "execution_count": 1279,
   "metadata": {},
   "outputs": [
    {
     "data": {
      "text/html": [
       "<div>\n",
       "<style scoped>\n",
       "    .dataframe tbody tr th:only-of-type {\n",
       "        vertical-align: middle;\n",
       "    }\n",
       "\n",
       "    .dataframe tbody tr th {\n",
       "        vertical-align: top;\n",
       "    }\n",
       "\n",
       "    .dataframe thead th {\n",
       "        text-align: right;\n",
       "    }\n",
       "</style>\n",
       "<table border=\"1\" class=\"dataframe\">\n",
       "  <thead>\n",
       "    <tr style=\"text-align: right;\">\n",
       "      <th></th>\n",
       "      <th>Year</th>\n",
       "      <th>Region</th>\n",
       "      <th>Indicator</th>\n",
       "      <th>Value</th>\n",
       "      <th>geo_point_2d</th>\n",
       "    </tr>\n",
       "  </thead>\n",
       "  <tbody>\n",
       "    <tr>\n",
       "      <th>8</th>\n",
       "      <td>2017</td>\n",
       "      <td>Total</td>\n",
       "      <td>No. of Casualties - Dead</td>\n",
       "      <td>7489</td>\n",
       "      <td>NaN</td>\n",
       "    </tr>\n",
       "    <tr>\n",
       "      <th>29</th>\n",
       "      <td>2016</td>\n",
       "      <td>Total</td>\n",
       "      <td>No. of Accidents</td>\n",
       "      <td>533380</td>\n",
       "      <td>NaN</td>\n",
       "    </tr>\n",
       "    <tr>\n",
       "      <th>30</th>\n",
       "      <td>2016</td>\n",
       "      <td>Total</td>\n",
       "      <td>No. of Casualties - Injured</td>\n",
       "      <td>38120</td>\n",
       "      <td>NaN</td>\n",
       "    </tr>\n",
       "    <tr>\n",
       "      <th>68</th>\n",
       "      <td>2017</td>\n",
       "      <td>Total</td>\n",
       "      <td>No. of Accidents</td>\n",
       "      <td>460488</td>\n",
       "      <td>NaN</td>\n",
       "    </tr>\n",
       "    <tr>\n",
       "      <th>69</th>\n",
       "      <td>2017</td>\n",
       "      <td>Total</td>\n",
       "      <td>No. of Casualties - Injured</td>\n",
       "      <td>33199</td>\n",
       "      <td>NaN</td>\n",
       "    </tr>\n",
       "    <tr>\n",
       "      <th>77</th>\n",
       "      <td>2016</td>\n",
       "      <td>Total</td>\n",
       "      <td>No. of Casualties - Dead</td>\n",
       "      <td>9031</td>\n",
       "      <td>NaN</td>\n",
       "    </tr>\n",
       "  </tbody>\n",
       "</table>\n",
       "</div>"
      ],
      "text/plain": [
       "    Year Region                    Indicator   Value geo_point_2d\n",
       "8   2017  Total     No. of Casualties - Dead    7489          NaN\n",
       "29  2016  Total             No. of Accidents  533380          NaN\n",
       "30  2016  Total  No. of Casualties - Injured   38120          NaN\n",
       "68  2017  Total             No. of Accidents  460488          NaN\n",
       "69  2017  Total  No. of Casualties - Injured   33199          NaN\n",
       "77  2016  Total     No. of Casualties - Dead    9031          NaN"
      ]
     },
     "execution_count": 1279,
     "metadata": {},
     "output_type": "execute_result"
    }
   ],
   "source": [
    "#Missing values in Geo_point column in Traffic dataset\n",
    "traffic.describe()\n",
    "traffic[traffic.isna().any(axis=1)]"
   ]
  },
  {
   "cell_type": "code",
   "execution_count": 1280,
   "metadata": {},
   "outputs": [
    {
     "data": {
      "text/plain": [
       "(Year                    0\n",
       " Administritive Area     0\n",
       " Driving Liceses         0\n",
       " geo_point_2d           25\n",
       " dtype: int64,\n",
       " Year            0\n",
       " Region          0\n",
       " Indicator       0\n",
       " Value           0\n",
       " geo_point_2d    6\n",
       " dtype: int64)"
      ]
     },
     "execution_count": 1280,
     "metadata": {},
     "output_type": "execute_result"
    }
   ],
   "source": [
    "# We have 25 value missing of  geo_point_2d in Licenses dataset and 6 missing values in Traffic dataset\n",
    "licenses.isnull().sum(), traffic.isnull().sum()"
   ]
  },
  {
   "cell_type": "markdown",
   "metadata": {},
   "source": [
    "#### 4b. Are there any obvious issues with the observations?\n",
    "### We have 25 value missing of  geo_point_2d in Licenses dataset and 6 missing values in Traffic dataset\n",
    "\n",
    "**What is the minimum *possible* value for each dataset? What is the maximum *possible* value?**"
   ]
  },
  {
   "cell_type": "code",
   "execution_count": 1291,
   "metadata": {},
   "outputs": [
    {
     "name": "stdout",
     "output_type": "stream",
     "text": [
      "Maximum value in column : geo_point_2d\n",
      "Minimum value in column : Administritive Area\n"
     ]
    }
   ],
   "source": [
    "# Maximum and minimum possible value for driving licences dataset\n",
    "print(\"Maximum value in column :\",max(licenses))\n",
    "print(\"Minimum value in column :\",min(licenses))"
   ]
  },
  {
   "cell_type": "code",
   "execution_count": 1299,
   "metadata": {},
   "outputs": [
    {
     "name": "stdout",
     "output_type": "stream",
     "text": [
      "Maximum value in column : geo_point_2d\n",
      "Minimum value in column : Indicator\n"
     ]
    }
   ],
   "source": [
    "# Maximum and minimum possible value for traffic dataset\n",
    "print(\"Maximum value in column :\",max(traffic))\n",
    "print(\"Minimum value in column :\",min(traffic))"
   ]
  },
  {
   "cell_type": "markdown",
   "metadata": {},
   "source": [
    "#### 5. What are your data types? \n",
    "Display the data types of each feature. "
   ]
  },
  {
   "cell_type": "code",
   "execution_count": 1300,
   "metadata": {
    "scrolled": true
   },
   "outputs": [
    {
     "data": {
      "text/plain": [
       "(Year            object\n",
       " Region          object\n",
       " Indicator       object\n",
       " Value           object\n",
       " geo_point_2d    object\n",
       " dtype: object,\n",
       " Year                   object\n",
       " Administritive Area    object\n",
       " Driving Liceses        object\n",
       " geo_point_2d           object\n",
       " dtype: object)"
      ]
     },
     "execution_count": 1300,
     "metadata": {},
     "output_type": "execute_result"
    }
   ],
   "source": [
    "#code\n",
    "traffic.dtypes, licenses.dtypes"
   ]
  },
  {
   "cell_type": "markdown",
   "metadata": {},
   "source": [
    "What did you learn?\n",
    "- Do any of them seem odd?  \n",
    "- Which ones are not as they should be?  "
   ]
  },
  {
   "cell_type": "markdown",
   "metadata": {},
   "source": [
    "Answer:\n",
    "Year on both should be numeric Value,Value to be numeric,Driving license should be int, Geo_point_2d should be float"
   ]
  },
  {
   "cell_type": "markdown",
   "metadata": {},
   "source": [
    "#### 6. Fix incorrect data types\n",
    "Based on what you discovered above, use appropriate methods to re-type incorrectly typed data.\n",
    "- Define a function that will allow you to convert numerical columns to an appropriate numeric type. Use `map` or `apply` to change these columns in each dataframe."
   ]
  },
  {
   "cell_type": "code",
   "execution_count": 1301,
   "metadata": {},
   "outputs": [],
   "source": [
    "#code\n",
    "#license part\n",
    "licenses['Year']=pd.to_numeric(licenses['Year']) \n",
    "licenses['Driving Liceses']=pd.to_numeric(licenses['Driving Liceses']) \n"
   ]
  },
  {
   "cell_type": "code",
   "execution_count": 1302,
   "metadata": {},
   "outputs": [
    {
     "name": "stdout",
     "output_type": "stream",
     "text": [
      "Year                    int64\n",
      "Administritive Area    object\n",
      "Driving Liceses         int64\n",
      "geo_point_2d           object\n",
      "dtype: object Year             int64\n",
      "Region          object\n",
      "Indicator       object\n",
      "Value            int64\n",
      "geo_point_2d    object\n",
      "dtype: object\n"
     ]
    }
   ],
   "source": [
    "#Traffic Part\n",
    "traffic['Year'] =pd.to_numeric(traffic['Year'])\n",
    "traffic['Value'] = pd.to_numeric(traffic['Value'])\n",
    "print(licenses.dtypes, traffic.dtypes)"
   ]
  },
  {
   "cell_type": "markdown",
   "metadata": {},
   "source": [
    "- Make new columns `x` and `y` using `geo_point_2d`"
   ]
  },
  {
   "cell_type": "code",
   "execution_count": 1303,
   "metadata": {},
   "outputs": [
    {
     "name": "stderr",
     "output_type": "stream",
     "text": [
      "<ipython-input-1303-9144b9456fe5>:2: FutureWarning: Columnar iteration over characters will be deprecated in future releases.\n",
      "  licenses['X'], licenses['Y'] = licenses['geo_point_2d'].str.split(',', 1).str\n"
     ]
    },
    {
     "data": {
      "text/html": [
       "<div>\n",
       "<style scoped>\n",
       "    .dataframe tbody tr th:only-of-type {\n",
       "        vertical-align: middle;\n",
       "    }\n",
       "\n",
       "    .dataframe tbody tr th {\n",
       "        vertical-align: top;\n",
       "    }\n",
       "\n",
       "    .dataframe thead th {\n",
       "        text-align: right;\n",
       "    }\n",
       "</style>\n",
       "<table border=\"1\" class=\"dataframe\">\n",
       "  <thead>\n",
       "    <tr style=\"text-align: right;\">\n",
       "      <th></th>\n",
       "      <th>Year</th>\n",
       "      <th>Administritive Area</th>\n",
       "      <th>Driving Liceses</th>\n",
       "      <th>geo_point_2d</th>\n",
       "      <th>X</th>\n",
       "      <th>Y</th>\n",
       "    </tr>\n",
       "  </thead>\n",
       "  <tbody>\n",
       "    <tr>\n",
       "      <th>0</th>\n",
       "      <td>2012</td>\n",
       "      <td>Makkah</td>\n",
       "      <td>143954</td>\n",
       "      <td>21.628962766, 41.2636898334</td>\n",
       "      <td>21.628962766</td>\n",
       "      <td>41.2636898334</td>\n",
       "    </tr>\n",
       "    <tr>\n",
       "      <th>1</th>\n",
       "      <td>1994</td>\n",
       "      <td>Makkah</td>\n",
       "      <td>75349</td>\n",
       "      <td>21.628962766, 41.2636898334</td>\n",
       "      <td>21.628962766</td>\n",
       "      <td>41.2636898334</td>\n",
       "    </tr>\n",
       "    <tr>\n",
       "      <th>2</th>\n",
       "      <td>1998</td>\n",
       "      <td>Makkah</td>\n",
       "      <td>86082</td>\n",
       "      <td>21.628962766, 41.2636898334</td>\n",
       "      <td>21.628962766</td>\n",
       "      <td>41.2636898334</td>\n",
       "    </tr>\n",
       "    <tr>\n",
       "      <th>3</th>\n",
       "      <td>2004</td>\n",
       "      <td>Makkah</td>\n",
       "      <td>86636</td>\n",
       "      <td>21.628962766, 41.2636898334</td>\n",
       "      <td>21.628962766</td>\n",
       "      <td>41.2636898334</td>\n",
       "    </tr>\n",
       "    <tr>\n",
       "      <th>4</th>\n",
       "      <td>2005</td>\n",
       "      <td>Makkah</td>\n",
       "      <td>65099</td>\n",
       "      <td>21.628962766, 41.2636898334</td>\n",
       "      <td>21.628962766</td>\n",
       "      <td>41.2636898334</td>\n",
       "    </tr>\n",
       "  </tbody>\n",
       "</table>\n",
       "</div>"
      ],
      "text/plain": [
       "   Year Administritive Area  Driving Liceses                 geo_point_2d  \\\n",
       "0  2012              Makkah           143954  21.628962766, 41.2636898334   \n",
       "1  1994              Makkah            75349  21.628962766, 41.2636898334   \n",
       "2  1998              Makkah            86082  21.628962766, 41.2636898334   \n",
       "3  2004              Makkah            86636  21.628962766, 41.2636898334   \n",
       "4  2005              Makkah            65099  21.628962766, 41.2636898334   \n",
       "\n",
       "              X               Y  \n",
       "0  21.628962766   41.2636898334  \n",
       "1  21.628962766   41.2636898334  \n",
       "2  21.628962766   41.2636898334  \n",
       "3  21.628962766   41.2636898334  \n",
       "4  21.628962766   41.2636898334  "
      ]
     },
     "execution_count": 1303,
     "metadata": {},
     "output_type": "execute_result"
    }
   ],
   "source": [
    "#licenses\n",
    "licenses['X'], licenses['Y'] = licenses['geo_point_2d'].str.split(',', 1).str\n",
    "licenses.head()"
   ]
  },
  {
   "cell_type": "code",
   "execution_count": 1304,
   "metadata": {},
   "outputs": [
    {
     "name": "stderr",
     "output_type": "stream",
     "text": [
      "<ipython-input-1304-e5c9f2534b1d>:2: FutureWarning: Columnar iteration over characters will be deprecated in future releases.\n",
      "  traffic['X'], traffic['Y'] = traffic['geo_point_2d'].str.split(',', 1).str\n"
     ]
    },
    {
     "data": {
      "text/html": [
       "<div>\n",
       "<style scoped>\n",
       "    .dataframe tbody tr th:only-of-type {\n",
       "        vertical-align: middle;\n",
       "    }\n",
       "\n",
       "    .dataframe tbody tr th {\n",
       "        vertical-align: top;\n",
       "    }\n",
       "\n",
       "    .dataframe thead th {\n",
       "        text-align: right;\n",
       "    }\n",
       "</style>\n",
       "<table border=\"1\" class=\"dataframe\">\n",
       "  <thead>\n",
       "    <tr style=\"text-align: right;\">\n",
       "      <th></th>\n",
       "      <th>Year</th>\n",
       "      <th>Region</th>\n",
       "      <th>Indicator</th>\n",
       "      <th>Value</th>\n",
       "      <th>X</th>\n",
       "      <th>Y</th>\n",
       "    </tr>\n",
       "  </thead>\n",
       "  <tbody>\n",
       "    <tr>\n",
       "      <th>0</th>\n",
       "      <td>2016</td>\n",
       "      <td>Makkah</td>\n",
       "      <td>No. of Casualties - Injured</td>\n",
       "      <td>12383</td>\n",
       "      <td>21.628962766</td>\n",
       "      <td>41.2636898334</td>\n",
       "    </tr>\n",
       "    <tr>\n",
       "      <th>1</th>\n",
       "      <td>2016</td>\n",
       "      <td>Eastern Region</td>\n",
       "      <td>No. of Casualties - Dead</td>\n",
       "      <td>1113</td>\n",
       "      <td>23.2883307307</td>\n",
       "      <td>50.1478302439</td>\n",
       "    </tr>\n",
       "    <tr>\n",
       "      <th>2</th>\n",
       "      <td>2016</td>\n",
       "      <td>Tabouk</td>\n",
       "      <td>No. of Casualties - Dead</td>\n",
       "      <td>434</td>\n",
       "      <td>27.90165499</td>\n",
       "      <td>37.2598581394</td>\n",
       "    </tr>\n",
       "    <tr>\n",
       "      <th>3</th>\n",
       "      <td>2016</td>\n",
       "      <td>Hail</td>\n",
       "      <td>No. of Casualties - Dead</td>\n",
       "      <td>299</td>\n",
       "      <td>27.400845724</td>\n",
       "      <td>41.4406960508</td>\n",
       "    </tr>\n",
       "    <tr>\n",
       "      <th>4</th>\n",
       "      <td>2016</td>\n",
       "      <td>Hail</td>\n",
       "      <td>No. of Accidents</td>\n",
       "      <td>10199</td>\n",
       "      <td>27.400845724</td>\n",
       "      <td>41.4406960508</td>\n",
       "    </tr>\n",
       "  </tbody>\n",
       "</table>\n",
       "</div>"
      ],
      "text/plain": [
       "   Year          Region                    Indicator  Value              X  \\\n",
       "0  2016          Makkah  No. of Casualties - Injured  12383   21.628962766   \n",
       "1  2016  Eastern Region     No. of Casualties - Dead   1113  23.2883307307   \n",
       "2  2016          Tabouk     No. of Casualties - Dead    434    27.90165499   \n",
       "3  2016            Hail     No. of Casualties - Dead    299   27.400845724   \n",
       "4  2016            Hail             No. of Accidents  10199   27.400845724   \n",
       "\n",
       "                Y  \n",
       "0   41.2636898334  \n",
       "1   50.1478302439  \n",
       "2   37.2598581394  \n",
       "3   41.4406960508  \n",
       "4   41.4406960508  "
      ]
     },
     "execution_count": 1304,
     "metadata": {},
     "output_type": "execute_result"
    }
   ],
   "source": [
    "#Traffic\n",
    "traffic['X'], traffic['Y'] = traffic['geo_point_2d'].str.split(',', 1).str\n",
    "#Remove geo_point_2d column from both dataset\n",
    "traffic.drop(columns=['geo_point_2d'], inplace=True) \n",
    "licenses.drop(columns=['geo_point_2d'], inplace=True)\n",
    "\n",
    "traffic.head()"
   ]
  },
  {
   "cell_type": "markdown",
   "metadata": {},
   "source": [
    "- Fix any individual values preventing other columns from being the appropriate type."
   ]
  },
  {
   "cell_type": "code",
   "execution_count": 1305,
   "metadata": {},
   "outputs": [],
   "source": [
    "#Traffic dataset\n",
    "# All columns in it's appropriate type.\n",
    "traffic.X = traffic.X.astype(float)\n",
    "traffic.Y = traffic.Y.astype(float)\n",
    "\n",
    "# Some columns have comma, to be deleted\n",
    "licenses.X = licenses.X.str.replace(\",\", '')\n",
    "licenses.X = licenses.X.astype(float)\n",
    "licenses.Y = licenses.Y.astype(float)"
   ]
  },
  {
   "cell_type": "markdown",
   "metadata": {},
   "source": [
    "- Finish your data modifications by making sure the columns are now typed appropriately."
   ]
  },
  {
   "cell_type": "code",
   "execution_count": 1306,
   "metadata": {},
   "outputs": [
    {
     "data": {
      "text/plain": [
       "(Year           int64\n",
       " Region        object\n",
       " Indicator     object\n",
       " Value          int64\n",
       " X            float64\n",
       " Y            float64\n",
       " dtype: object,\n",
       " Year                     int64\n",
       " Administritive Area     object\n",
       " Driving Liceses          int64\n",
       " X                      float64\n",
       " Y                      float64\n",
       " dtype: object)"
      ]
     },
     "execution_count": 1306,
     "metadata": {},
     "output_type": "execute_result"
    }
   ],
   "source": [
    "#code\n",
    "traffic.dtypes, licenses.dtypes"
   ]
  },
  {
   "cell_type": "markdown",
   "metadata": {},
   "source": [
    "- Display the data types again to confirm they are correct."
   ]
  },
  {
   "cell_type": "code",
   "execution_count": 1307,
   "metadata": {},
   "outputs": [
    {
     "data": {
      "text/plain": [
       "(Year           int64\n",
       " Region        object\n",
       " Indicator     object\n",
       " Value          int64\n",
       " X            float64\n",
       " Y            float64\n",
       " dtype: object,\n",
       " Year                     int64\n",
       " Administritive Area     object\n",
       " Driving Liceses          int64\n",
       " X                      float64\n",
       " Y                      float64\n",
       " dtype: object)"
      ]
     },
     "execution_count": 1307,
     "metadata": {},
     "output_type": "execute_result"
    }
   ],
   "source": [
    "#Code:\n",
    "traffic.dtypes, licenses.dtypes"
   ]
  },
  {
   "cell_type": "markdown",
   "metadata": {},
   "source": [
    "#### 7. Rename columns\n",
    "Change the names of the columns to more expressive names so that you can tell the difference the Driving Licenses  columns and the & Traffic Accidents columns. Your solution should map all column names being changed at once (no repeated singular name-changes). **We will be combining these two datasets, and so you should name columns in an appropriate way**.\n",
    "\n",
    "**Guidelines**:\n",
    "- Column names should be all lowercase (you will thank yourself when you start pushing data to SQL later in the course)\n",
    "- Column names should not contain spaces (underscores will suffice--this allows for using the `df.column_name` method to access columns in addition to `df['column_name']`.\n",
    "- Column names should be unique and informative (the only feature that we actually share between dataframes is the state).\n",
    "- Please also fix any typos you see in the column names."
   ]
  },
  {
   "cell_type": "code",
   "execution_count": 1308,
   "metadata": {},
   "outputs": [],
   "source": [
    "#code\n",
    "traffic.columns = [x.lower() for x in traffic.columns]\n",
    "traffic.columns = traffic.columns.str.replace(' ', '_')\n",
    "\n",
    "licenses.columns = map(str.lower, licenses.columns)\n",
    "licenses.columns = licenses.columns.str.replace(' ', '_')\n",
    "\n",
    "#Rename columns \n",
    "licenses.rename(columns={'administritive_area':'region', 'driving_liceses':'driving_licenses'}, inplace=True) \n",
    "traffic.rename(columns={'value':'no_accidents'}, inplace=True)"
   ]
  },
  {
   "cell_type": "markdown",
   "metadata": {},
   "source": [
    "#### 8. Create a data dictionary\n",
    "\n",
    "Now that we've fixed our data, and given it appropriate names, let's create a [data dictionary](http://library.ucmerced.edu/node/10249). \n",
    "\n",
    "A data dictionary provides a quick overview of features/variables/columns, alongside data types and descriptions. The more descriptive you can be, the more useful this document is.\n",
    "\n",
    "Example of a Fictional Data Dictionary Entry: \n",
    "\n",
    "|Feature|Type|Dataset|Description|\n",
    "|---|---|---|---|\n",
    "|**county_pop**|*integer*|2010 census|The population of the county (units in thousands, where 2.5 represents 2500 people).| \n",
    "|**per_poverty**|*float*|2010 census|The percent of the county over the age of 18 living below the 200% of official US poverty rate (units percent to two decimal places 98.10 means 98.1%)|\n",
    "\n",
    "[Here's a quick link to a short guide for formatting markdown in Jupyter notebooks](https://jupyter-notebook.readthedocs.io/en/stable/examples/Notebook/Working%20With%20Markdown%20Cells.html).\n",
    "\n",
    "Provided is the skeleton for formatting a markdown table, with columns headers that will help you create a data dictionary to quickly summarize your data, as well as some examples. **This would be a great thing to copy and paste into your custom README for this project.**"
   ]
  },
  {
   "cell_type": "markdown",
   "metadata": {},
   "source": [
    "|Feature|Type|Dataset|Description|\n",
    "|---|---|---|---|\n",
    "|year|int|Traffic_Accidents|Year in which the accident occured| \n",
    "|region|object|Traffic_Accidents|Region in which the accident occured| \n",
    "|indicator|object|Traffic_Accidents|Measurement about the demages (No. of accidents - No. of dead)|\n",
    "|Value|int|Traffic_Accidents|value of the indicator|\n",
    "|geo_point_2d|object|Traffic_Accidents|Location of the accident occured|\n",
    "|x|float|Traffic_Accidents|longitude of center the city| \n",
    "|y|float|Traffic_Accidents|Latitude of center the city| "
   ]
  },
  {
   "cell_type": "markdown",
   "metadata": {},
   "source": [
    "|Feature|Type|Dataset|Description|\n",
    "|---|---|---|---|\n",
    "|year|int|Driving_Licenses|Year in which the accident occured| \n",
    "|region|object|Driving_Licenses|Region in which the accident occured| \n",
    "|driving_licenses|int|Driving_Licenses|Number of issued licenses per year|\n",
    "|geo_point_2d|object|Driving_Licenses|Location of the accident occured|\n",
    "|x|float|Driving_Licenses|longitude of center the city| \n",
    "|y|float|Driving_Licenses|Latitude of center the city| "
   ]
  },
  {
   "cell_type": "markdown",
   "metadata": {},
   "source": [
    "#### 9. Drop unnecessary rows\n",
    "\n",
    "This study concerns accident and license in regions/area. Please do the followings:\n",
    "0. Which rows are not associated with regions?\n",
    "1. Confirm the numbers of all regions add up to total.\n",
    "2. Remove the rows that are not associated with regions"
   ]
  },
  {
   "cell_type": "code",
   "execution_count": 1309,
   "metadata": {},
   "outputs": [
    {
     "data": {
      "text/html": [
       "<div>\n",
       "<style scoped>\n",
       "    .dataframe tbody tr th:only-of-type {\n",
       "        vertical-align: middle;\n",
       "    }\n",
       "\n",
       "    .dataframe tbody tr th {\n",
       "        vertical-align: top;\n",
       "    }\n",
       "\n",
       "    .dataframe thead th {\n",
       "        text-align: right;\n",
       "    }\n",
       "</style>\n",
       "<table border=\"1\" class=\"dataframe\">\n",
       "  <thead>\n",
       "    <tr style=\"text-align: right;\">\n",
       "      <th></th>\n",
       "      <th>year</th>\n",
       "      <th>region</th>\n",
       "      <th>indicator</th>\n",
       "      <th>no_accidents</th>\n",
       "      <th>x</th>\n",
       "      <th>y</th>\n",
       "    </tr>\n",
       "  </thead>\n",
       "  <tbody>\n",
       "    <tr>\n",
       "      <th>8</th>\n",
       "      <td>2017</td>\n",
       "      <td>Total</td>\n",
       "      <td>No. of Casualties - Dead</td>\n",
       "      <td>7489</td>\n",
       "      <td>NaN</td>\n",
       "      <td>NaN</td>\n",
       "    </tr>\n",
       "    <tr>\n",
       "      <th>29</th>\n",
       "      <td>2016</td>\n",
       "      <td>Total</td>\n",
       "      <td>No. of Accidents</td>\n",
       "      <td>533380</td>\n",
       "      <td>NaN</td>\n",
       "      <td>NaN</td>\n",
       "    </tr>\n",
       "    <tr>\n",
       "      <th>30</th>\n",
       "      <td>2016</td>\n",
       "      <td>Total</td>\n",
       "      <td>No. of Casualties - Injured</td>\n",
       "      <td>38120</td>\n",
       "      <td>NaN</td>\n",
       "      <td>NaN</td>\n",
       "    </tr>\n",
       "    <tr>\n",
       "      <th>68</th>\n",
       "      <td>2017</td>\n",
       "      <td>Total</td>\n",
       "      <td>No. of Accidents</td>\n",
       "      <td>460488</td>\n",
       "      <td>NaN</td>\n",
       "      <td>NaN</td>\n",
       "    </tr>\n",
       "    <tr>\n",
       "      <th>69</th>\n",
       "      <td>2017</td>\n",
       "      <td>Total</td>\n",
       "      <td>No. of Casualties - Injured</td>\n",
       "      <td>33199</td>\n",
       "      <td>NaN</td>\n",
       "      <td>NaN</td>\n",
       "    </tr>\n",
       "    <tr>\n",
       "      <th>77</th>\n",
       "      <td>2016</td>\n",
       "      <td>Total</td>\n",
       "      <td>No. of Casualties - Dead</td>\n",
       "      <td>9031</td>\n",
       "      <td>NaN</td>\n",
       "      <td>NaN</td>\n",
       "    </tr>\n",
       "  </tbody>\n",
       "</table>\n",
       "</div>"
      ],
      "text/plain": [
       "    year region                    indicator  no_accidents   x   y\n",
       "8   2017  Total     No. of Casualties - Dead          7489 NaN NaN\n",
       "29  2016  Total             No. of Accidents        533380 NaN NaN\n",
       "30  2016  Total  No. of Casualties - Injured         38120 NaN NaN\n",
       "68  2017  Total             No. of Accidents        460488 NaN NaN\n",
       "69  2017  Total  No. of Casualties - Injured         33199 NaN NaN\n",
       "77  2016  Total     No. of Casualties - Dead          9031 NaN NaN"
      ]
     },
     "execution_count": 1309,
     "metadata": {},
     "output_type": "execute_result"
    }
   ],
   "source": [
    "#code\n",
    "#Which rows are not associated with regions?\n",
    "#Total not associated with the dataset\n",
    "traffic[traffic['region'] == 'Total']"
   ]
  },
  {
   "cell_type": "code",
   "execution_count": 1310,
   "metadata": {},
   "outputs": [
    {
     "data": {
      "text/html": [
       "<div>\n",
       "<style scoped>\n",
       "    .dataframe tbody tr th:only-of-type {\n",
       "        vertical-align: middle;\n",
       "    }\n",
       "\n",
       "    .dataframe tbody tr th {\n",
       "        vertical-align: top;\n",
       "    }\n",
       "\n",
       "    .dataframe thead th {\n",
       "        text-align: right;\n",
       "    }\n",
       "</style>\n",
       "<table border=\"1\" class=\"dataframe\">\n",
       "  <thead>\n",
       "    <tr style=\"text-align: right;\">\n",
       "      <th>region</th>\n",
       "      <th>Al-Baaha</th>\n",
       "      <th>Al-Jouf</th>\n",
       "      <th>Asir</th>\n",
       "      <th>Eastern Region</th>\n",
       "      <th>Hail</th>\n",
       "      <th>Jazan</th>\n",
       "      <th>Madinah</th>\n",
       "      <th>Makkah</th>\n",
       "      <th>Najran</th>\n",
       "      <th>Northern Boarder</th>\n",
       "      <th>Qassim</th>\n",
       "      <th>Riyadh</th>\n",
       "      <th>Tabouk</th>\n",
       "      <th>Total</th>\n",
       "    </tr>\n",
       "    <tr>\n",
       "      <th>year</th>\n",
       "      <th></th>\n",
       "      <th></th>\n",
       "      <th></th>\n",
       "      <th></th>\n",
       "      <th></th>\n",
       "      <th></th>\n",
       "      <th></th>\n",
       "      <th></th>\n",
       "      <th></th>\n",
       "      <th></th>\n",
       "      <th></th>\n",
       "      <th></th>\n",
       "      <th></th>\n",
       "      <th></th>\n",
       "    </tr>\n",
       "  </thead>\n",
       "  <tbody>\n",
       "    <tr>\n",
       "      <th>2016</th>\n",
       "      <td>1676.666667</td>\n",
       "      <td>3792.333333</td>\n",
       "      <td>12069.333333</td>\n",
       "      <td>35875.0</td>\n",
       "      <td>3810.000000</td>\n",
       "      <td>9548.666667</td>\n",
       "      <td>6493.666667</td>\n",
       "      <td>49821.333333</td>\n",
       "      <td>1371.333333</td>\n",
       "      <td>4673.333333</td>\n",
       "      <td>9191.333333</td>\n",
       "      <td>49124.333333</td>\n",
       "      <td>6063.000000</td>\n",
       "      <td>193510.333333</td>\n",
       "    </tr>\n",
       "    <tr>\n",
       "      <th>2017</th>\n",
       "      <td>851.666667</td>\n",
       "      <td>3857.000000</td>\n",
       "      <td>9480.333333</td>\n",
       "      <td>28823.0</td>\n",
       "      <td>3472.333333</td>\n",
       "      <td>8278.000000</td>\n",
       "      <td>6522.333333</td>\n",
       "      <td>52601.666667</td>\n",
       "      <td>1384.333333</td>\n",
       "      <td>4008.666667</td>\n",
       "      <td>8056.666667</td>\n",
       "      <td>35288.000000</td>\n",
       "      <td>4434.666667</td>\n",
       "      <td>167058.666667</td>\n",
       "    </tr>\n",
       "  </tbody>\n",
       "</table>\n",
       "</div>"
      ],
      "text/plain": [
       "region     Al-Baaha      Al-Jouf          Asir  Eastern Region         Hail  \\\n",
       "year                                                                          \n",
       "2016    1676.666667  3792.333333  12069.333333         35875.0  3810.000000   \n",
       "2017     851.666667  3857.000000   9480.333333         28823.0  3472.333333   \n",
       "\n",
       "region        Jazan      Madinah        Makkah       Najran  Northern Boarder  \\\n",
       "year                                                                            \n",
       "2016    9548.666667  6493.666667  49821.333333  1371.333333       4673.333333   \n",
       "2017    8278.000000  6522.333333  52601.666667  1384.333333       4008.666667   \n",
       "\n",
       "region       Qassim        Riyadh       Tabouk          Total  \n",
       "year                                                           \n",
       "2016    9191.333333  49124.333333  6063.000000  193510.333333  \n",
       "2017    8056.666667  35288.000000  4434.666667  167058.666667  "
      ]
     },
     "execution_count": 1310,
     "metadata": {},
     "output_type": "execute_result"
    }
   ],
   "source": [
    "#In traffic dataset \"Total\" is the total of accidents in each region and year\n",
    "traffic_pt = pd.pivot_table(traffic, values='no_accidents', index=['year'], columns=['region'])\n",
    "traffic_pt"
   ]
  },
  {
   "cell_type": "code",
   "execution_count": 1311,
   "metadata": {},
   "outputs": [
    {
     "data": {
      "text/html": [
       "<div>\n",
       "<style scoped>\n",
       "    .dataframe tbody tr th:only-of-type {\n",
       "        vertical-align: middle;\n",
       "    }\n",
       "\n",
       "    .dataframe tbody tr th {\n",
       "        vertical-align: top;\n",
       "    }\n",
       "\n",
       "    .dataframe thead th {\n",
       "        text-align: right;\n",
       "    }\n",
       "</style>\n",
       "<table border=\"1\" class=\"dataframe\">\n",
       "  <thead>\n",
       "    <tr style=\"text-align: right;\">\n",
       "      <th>region</th>\n",
       "      <th>Al-Baha</th>\n",
       "      <th>Al-Jouf</th>\n",
       "      <th>Al-Qaseem</th>\n",
       "      <th>Assir</th>\n",
       "      <th>Eastern</th>\n",
       "      <th>Hail</th>\n",
       "      <th>Jazan</th>\n",
       "      <th>Madinah</th>\n",
       "      <th>Makkah</th>\n",
       "      <th>Najran</th>\n",
       "      <th>Northern Boarder</th>\n",
       "      <th>Riyadh</th>\n",
       "      <th>Tabouk</th>\n",
       "      <th>Total</th>\n",
       "    </tr>\n",
       "    <tr>\n",
       "      <th>year</th>\n",
       "      <th></th>\n",
       "      <th></th>\n",
       "      <th></th>\n",
       "      <th></th>\n",
       "      <th></th>\n",
       "      <th></th>\n",
       "      <th></th>\n",
       "      <th></th>\n",
       "      <th></th>\n",
       "      <th></th>\n",
       "      <th></th>\n",
       "      <th></th>\n",
       "      <th></th>\n",
       "      <th></th>\n",
       "    </tr>\n",
       "  </thead>\n",
       "  <tbody>\n",
       "    <tr>\n",
       "      <th>1993</th>\n",
       "      <td>3270</td>\n",
       "      <td>2884</td>\n",
       "      <td>73618</td>\n",
       "      <td>6226</td>\n",
       "      <td>9964</td>\n",
       "      <td>10484</td>\n",
       "      <td>6009</td>\n",
       "      <td>4122</td>\n",
       "      <td>65977</td>\n",
       "      <td>3769</td>\n",
       "      <td>1510</td>\n",
       "      <td>103886</td>\n",
       "      <td>3174</td>\n",
       "      <td>294893</td>\n",
       "    </tr>\n",
       "    <tr>\n",
       "      <th>1994</th>\n",
       "      <td>2729</td>\n",
       "      <td>2535</td>\n",
       "      <td>68916</td>\n",
       "      <td>5185</td>\n",
       "      <td>10918</td>\n",
       "      <td>11131</td>\n",
       "      <td>3826</td>\n",
       "      <td>3767</td>\n",
       "      <td>75349</td>\n",
       "      <td>3880</td>\n",
       "      <td>1457</td>\n",
       "      <td>110545</td>\n",
       "      <td>3282</td>\n",
       "      <td>303520</td>\n",
       "    </tr>\n",
       "    <tr>\n",
       "      <th>1995</th>\n",
       "      <td>2423</td>\n",
       "      <td>2270</td>\n",
       "      <td>49690</td>\n",
       "      <td>4889</td>\n",
       "      <td>7831</td>\n",
       "      <td>9735</td>\n",
       "      <td>2284</td>\n",
       "      <td>4155</td>\n",
       "      <td>60356</td>\n",
       "      <td>3268</td>\n",
       "      <td>1318</td>\n",
       "      <td>101608</td>\n",
       "      <td>2051</td>\n",
       "      <td>251878</td>\n",
       "    </tr>\n",
       "    <tr>\n",
       "      <th>1996</th>\n",
       "      <td>1468</td>\n",
       "      <td>2518</td>\n",
       "      <td>42693</td>\n",
       "      <td>3319</td>\n",
       "      <td>8461</td>\n",
       "      <td>10267</td>\n",
       "      <td>2226</td>\n",
       "      <td>3425</td>\n",
       "      <td>46195</td>\n",
       "      <td>3274</td>\n",
       "      <td>1383</td>\n",
       "      <td>110131</td>\n",
       "      <td>2263</td>\n",
       "      <td>237623</td>\n",
       "    </tr>\n",
       "    <tr>\n",
       "      <th>1997</th>\n",
       "      <td>3027</td>\n",
       "      <td>3565</td>\n",
       "      <td>10092</td>\n",
       "      <td>12204</td>\n",
       "      <td>58814</td>\n",
       "      <td>6606</td>\n",
       "      <td>5695</td>\n",
       "      <td>10495</td>\n",
       "      <td>76623</td>\n",
       "      <td>3073</td>\n",
       "      <td>1531</td>\n",
       "      <td>92145</td>\n",
       "      <td>5426</td>\n",
       "      <td>289296</td>\n",
       "    </tr>\n",
       "    <tr>\n",
       "      <th>1998</th>\n",
       "      <td>5110</td>\n",
       "      <td>3476</td>\n",
       "      <td>11350</td>\n",
       "      <td>13220</td>\n",
       "      <td>70650</td>\n",
       "      <td>4708</td>\n",
       "      <td>2613</td>\n",
       "      <td>13020</td>\n",
       "      <td>86082</td>\n",
       "      <td>4322</td>\n",
       "      <td>2014</td>\n",
       "      <td>114962</td>\n",
       "      <td>6823</td>\n",
       "      <td>338350</td>\n",
       "    </tr>\n",
       "    <tr>\n",
       "      <th>1999</th>\n",
       "      <td>4246</td>\n",
       "      <td>3950</td>\n",
       "      <td>9983</td>\n",
       "      <td>14625</td>\n",
       "      <td>64973</td>\n",
       "      <td>3139</td>\n",
       "      <td>4792</td>\n",
       "      <td>11108</td>\n",
       "      <td>103535</td>\n",
       "      <td>3959</td>\n",
       "      <td>2311</td>\n",
       "      <td>100291</td>\n",
       "      <td>5298</td>\n",
       "      <td>332210</td>\n",
       "    </tr>\n",
       "    <tr>\n",
       "      <th>2000</th>\n",
       "      <td>4832</td>\n",
       "      <td>4666</td>\n",
       "      <td>12226</td>\n",
       "      <td>18622</td>\n",
       "      <td>65767</td>\n",
       "      <td>3215</td>\n",
       "      <td>5678</td>\n",
       "      <td>9562</td>\n",
       "      <td>87053</td>\n",
       "      <td>4905</td>\n",
       "      <td>2894</td>\n",
       "      <td>45345</td>\n",
       "      <td>8473</td>\n",
       "      <td>273238</td>\n",
       "    </tr>\n",
       "    <tr>\n",
       "      <th>2001</th>\n",
       "      <td>7594</td>\n",
       "      <td>4756</td>\n",
       "      <td>14718</td>\n",
       "      <td>20321</td>\n",
       "      <td>74119</td>\n",
       "      <td>6077</td>\n",
       "      <td>10631</td>\n",
       "      <td>13561</td>\n",
       "      <td>85593</td>\n",
       "      <td>4950</td>\n",
       "      <td>2971</td>\n",
       "      <td>13090</td>\n",
       "      <td>6344</td>\n",
       "      <td>264725</td>\n",
       "    </tr>\n",
       "    <tr>\n",
       "      <th>2002</th>\n",
       "      <td>3335</td>\n",
       "      <td>5940</td>\n",
       "      <td>16298</td>\n",
       "      <td>20417</td>\n",
       "      <td>85035</td>\n",
       "      <td>5070</td>\n",
       "      <td>5254</td>\n",
       "      <td>10494</td>\n",
       "      <td>88593</td>\n",
       "      <td>5117</td>\n",
       "      <td>2268</td>\n",
       "      <td>25423</td>\n",
       "      <td>8794</td>\n",
       "      <td>282038</td>\n",
       "    </tr>\n",
       "    <tr>\n",
       "      <th>2003</th>\n",
       "      <td>3616</td>\n",
       "      <td>3852</td>\n",
       "      <td>10666</td>\n",
       "      <td>15693</td>\n",
       "      <td>82697</td>\n",
       "      <td>3861</td>\n",
       "      <td>5220</td>\n",
       "      <td>12920</td>\n",
       "      <td>74236</td>\n",
       "      <td>4443</td>\n",
       "      <td>1705</td>\n",
       "      <td>26076</td>\n",
       "      <td>9873</td>\n",
       "      <td>254858</td>\n",
       "    </tr>\n",
       "    <tr>\n",
       "      <th>2004</th>\n",
       "      <td>3410</td>\n",
       "      <td>4601</td>\n",
       "      <td>9390</td>\n",
       "      <td>17947</td>\n",
       "      <td>84984</td>\n",
       "      <td>8656</td>\n",
       "      <td>5016</td>\n",
       "      <td>10556</td>\n",
       "      <td>86636</td>\n",
       "      <td>4609</td>\n",
       "      <td>1922</td>\n",
       "      <td>23479</td>\n",
       "      <td>7532</td>\n",
       "      <td>268738</td>\n",
       "    </tr>\n",
       "    <tr>\n",
       "      <th>2005</th>\n",
       "      <td>2698</td>\n",
       "      <td>3558</td>\n",
       "      <td>10480</td>\n",
       "      <td>18565</td>\n",
       "      <td>82505</td>\n",
       "      <td>16247</td>\n",
       "      <td>5502</td>\n",
       "      <td>10210</td>\n",
       "      <td>65099</td>\n",
       "      <td>4779</td>\n",
       "      <td>1804</td>\n",
       "      <td>23245</td>\n",
       "      <td>6511</td>\n",
       "      <td>251203</td>\n",
       "    </tr>\n",
       "    <tr>\n",
       "      <th>2006</th>\n",
       "      <td>3593</td>\n",
       "      <td>4846</td>\n",
       "      <td>12142</td>\n",
       "      <td>20330</td>\n",
       "      <td>79517</td>\n",
       "      <td>8166</td>\n",
       "      <td>7955</td>\n",
       "      <td>11204</td>\n",
       "      <td>66967</td>\n",
       "      <td>5897</td>\n",
       "      <td>2573</td>\n",
       "      <td>36059</td>\n",
       "      <td>8259</td>\n",
       "      <td>267508</td>\n",
       "    </tr>\n",
       "    <tr>\n",
       "      <th>2007</th>\n",
       "      <td>997</td>\n",
       "      <td>9097</td>\n",
       "      <td>25174</td>\n",
       "      <td>10835</td>\n",
       "      <td>106511</td>\n",
       "      <td>4021</td>\n",
       "      <td>12634</td>\n",
       "      <td>12174</td>\n",
       "      <td>91902</td>\n",
       "      <td>7226</td>\n",
       "      <td>3479</td>\n",
       "      <td>36261</td>\n",
       "      <td>11045</td>\n",
       "      <td>331356</td>\n",
       "    </tr>\n",
       "    <tr>\n",
       "      <th>2008</th>\n",
       "      <td>5418</td>\n",
       "      <td>10929</td>\n",
       "      <td>22236</td>\n",
       "      <td>18800</td>\n",
       "      <td>104626</td>\n",
       "      <td>7413</td>\n",
       "      <td>11346</td>\n",
       "      <td>9194</td>\n",
       "      <td>77013</td>\n",
       "      <td>7938</td>\n",
       "      <td>3519</td>\n",
       "      <td>36798</td>\n",
       "      <td>14928</td>\n",
       "      <td>330158</td>\n",
       "    </tr>\n",
       "    <tr>\n",
       "      <th>2009</th>\n",
       "      <td>9815</td>\n",
       "      <td>10567</td>\n",
       "      <td>27571</td>\n",
       "      <td>21582</td>\n",
       "      <td>108544</td>\n",
       "      <td>7282</td>\n",
       "      <td>9437</td>\n",
       "      <td>11574</td>\n",
       "      <td>112045</td>\n",
       "      <td>6771</td>\n",
       "      <td>3649</td>\n",
       "      <td>38014</td>\n",
       "      <td>9424</td>\n",
       "      <td>376275</td>\n",
       "    </tr>\n",
       "    <tr>\n",
       "      <th>2010</th>\n",
       "      <td>7076</td>\n",
       "      <td>10937</td>\n",
       "      <td>36737</td>\n",
       "      <td>21835</td>\n",
       "      <td>110295</td>\n",
       "      <td>7637</td>\n",
       "      <td>12270</td>\n",
       "      <td>15045</td>\n",
       "      <td>113531</td>\n",
       "      <td>6360</td>\n",
       "      <td>3064</td>\n",
       "      <td>31378</td>\n",
       "      <td>10345</td>\n",
       "      <td>386510</td>\n",
       "    </tr>\n",
       "    <tr>\n",
       "      <th>2011</th>\n",
       "      <td>6450</td>\n",
       "      <td>10180</td>\n",
       "      <td>10760</td>\n",
       "      <td>24515</td>\n",
       "      <td>151087</td>\n",
       "      <td>9123</td>\n",
       "      <td>10946</td>\n",
       "      <td>14630</td>\n",
       "      <td>110647</td>\n",
       "      <td>7314</td>\n",
       "      <td>4314</td>\n",
       "      <td>27772</td>\n",
       "      <td>12820</td>\n",
       "      <td>400558</td>\n",
       "    </tr>\n",
       "    <tr>\n",
       "      <th>2012</th>\n",
       "      <td>7593</td>\n",
       "      <td>10246</td>\n",
       "      <td>11421</td>\n",
       "      <td>23136</td>\n",
       "      <td>129971</td>\n",
       "      <td>11082</td>\n",
       "      <td>11156</td>\n",
       "      <td>14459</td>\n",
       "      <td>143954</td>\n",
       "      <td>9201</td>\n",
       "      <td>3706</td>\n",
       "      <td>23888</td>\n",
       "      <td>11391</td>\n",
       "      <td>411204</td>\n",
       "    </tr>\n",
       "    <tr>\n",
       "      <th>2013</th>\n",
       "      <td>7482</td>\n",
       "      <td>11602</td>\n",
       "      <td>17889</td>\n",
       "      <td>29730</td>\n",
       "      <td>123325</td>\n",
       "      <td>9731</td>\n",
       "      <td>14175</td>\n",
       "      <td>28513</td>\n",
       "      <td>131108</td>\n",
       "      <td>8996</td>\n",
       "      <td>3921</td>\n",
       "      <td>165994</td>\n",
       "      <td>12848</td>\n",
       "      <td>565314</td>\n",
       "    </tr>\n",
       "    <tr>\n",
       "      <th>2014</th>\n",
       "      <td>7268</td>\n",
       "      <td>9982</td>\n",
       "      <td>29113</td>\n",
       "      <td>29552</td>\n",
       "      <td>121774</td>\n",
       "      <td>10417</td>\n",
       "      <td>15621</td>\n",
       "      <td>31447</td>\n",
       "      <td>149234</td>\n",
       "      <td>9601</td>\n",
       "      <td>5009</td>\n",
       "      <td>194208</td>\n",
       "      <td>12188</td>\n",
       "      <td>625414</td>\n",
       "    </tr>\n",
       "    <tr>\n",
       "      <th>2015</th>\n",
       "      <td>4856</td>\n",
       "      <td>10233</td>\n",
       "      <td>13631</td>\n",
       "      <td>38567</td>\n",
       "      <td>135752</td>\n",
       "      <td>7172</td>\n",
       "      <td>13931</td>\n",
       "      <td>22744</td>\n",
       "      <td>157389</td>\n",
       "      <td>1864</td>\n",
       "      <td>3837</td>\n",
       "      <td>24548</td>\n",
       "      <td>915</td>\n",
       "      <td>435439</td>\n",
       "    </tr>\n",
       "    <tr>\n",
       "      <th>2016</th>\n",
       "      <td>4614</td>\n",
       "      <td>9371</td>\n",
       "      <td>9180</td>\n",
       "      <td>41367</td>\n",
       "      <td>142307</td>\n",
       "      <td>54507</td>\n",
       "      <td>11504</td>\n",
       "      <td>24540</td>\n",
       "      <td>136055</td>\n",
       "      <td>2153</td>\n",
       "      <td>4958</td>\n",
       "      <td>242851</td>\n",
       "      <td>13610</td>\n",
       "      <td>697017</td>\n",
       "    </tr>\n",
       "    <tr>\n",
       "      <th>2017</th>\n",
       "      <td>4131</td>\n",
       "      <td>8091</td>\n",
       "      <td>6318</td>\n",
       "      <td>39133</td>\n",
       "      <td>126816</td>\n",
       "      <td>22035</td>\n",
       "      <td>18345</td>\n",
       "      <td>36165</td>\n",
       "      <td>142487</td>\n",
       "      <td>13825</td>\n",
       "      <td>5280</td>\n",
       "      <td>495307</td>\n",
       "      <td>10232</td>\n",
       "      <td>928165</td>\n",
       "    </tr>\n",
       "  </tbody>\n",
       "</table>\n",
       "</div>"
      ],
      "text/plain": [
       "region  Al-Baha  Al-Jouf  Al-Qaseem  Assir  Eastern   Hail  Jazan  Madinah  \\\n",
       "year                                                                         \n",
       "1993       3270     2884      73618   6226     9964  10484   6009     4122   \n",
       "1994       2729     2535      68916   5185    10918  11131   3826     3767   \n",
       "1995       2423     2270      49690   4889     7831   9735   2284     4155   \n",
       "1996       1468     2518      42693   3319     8461  10267   2226     3425   \n",
       "1997       3027     3565      10092  12204    58814   6606   5695    10495   \n",
       "1998       5110     3476      11350  13220    70650   4708   2613    13020   \n",
       "1999       4246     3950       9983  14625    64973   3139   4792    11108   \n",
       "2000       4832     4666      12226  18622    65767   3215   5678     9562   \n",
       "2001       7594     4756      14718  20321    74119   6077  10631    13561   \n",
       "2002       3335     5940      16298  20417    85035   5070   5254    10494   \n",
       "2003       3616     3852      10666  15693    82697   3861   5220    12920   \n",
       "2004       3410     4601       9390  17947    84984   8656   5016    10556   \n",
       "2005       2698     3558      10480  18565    82505  16247   5502    10210   \n",
       "2006       3593     4846      12142  20330    79517   8166   7955    11204   \n",
       "2007        997     9097      25174  10835   106511   4021  12634    12174   \n",
       "2008       5418    10929      22236  18800   104626   7413  11346     9194   \n",
       "2009       9815    10567      27571  21582   108544   7282   9437    11574   \n",
       "2010       7076    10937      36737  21835   110295   7637  12270    15045   \n",
       "2011       6450    10180      10760  24515   151087   9123  10946    14630   \n",
       "2012       7593    10246      11421  23136   129971  11082  11156    14459   \n",
       "2013       7482    11602      17889  29730   123325   9731  14175    28513   \n",
       "2014       7268     9982      29113  29552   121774  10417  15621    31447   \n",
       "2015       4856    10233      13631  38567   135752   7172  13931    22744   \n",
       "2016       4614     9371       9180  41367   142307  54507  11504    24540   \n",
       "2017       4131     8091       6318  39133   126816  22035  18345    36165   \n",
       "\n",
       "region  Makkah  Najran  Northern Boarder  Riyadh  Tabouk   Total  \n",
       "year                                                              \n",
       "1993     65977    3769              1510  103886    3174  294893  \n",
       "1994     75349    3880              1457  110545    3282  303520  \n",
       "1995     60356    3268              1318  101608    2051  251878  \n",
       "1996     46195    3274              1383  110131    2263  237623  \n",
       "1997     76623    3073              1531   92145    5426  289296  \n",
       "1998     86082    4322              2014  114962    6823  338350  \n",
       "1999    103535    3959              2311  100291    5298  332210  \n",
       "2000     87053    4905              2894   45345    8473  273238  \n",
       "2001     85593    4950              2971   13090    6344  264725  \n",
       "2002     88593    5117              2268   25423    8794  282038  \n",
       "2003     74236    4443              1705   26076    9873  254858  \n",
       "2004     86636    4609              1922   23479    7532  268738  \n",
       "2005     65099    4779              1804   23245    6511  251203  \n",
       "2006     66967    5897              2573   36059    8259  267508  \n",
       "2007     91902    7226              3479   36261   11045  331356  \n",
       "2008     77013    7938              3519   36798   14928  330158  \n",
       "2009    112045    6771              3649   38014    9424  376275  \n",
       "2010    113531    6360              3064   31378   10345  386510  \n",
       "2011    110647    7314              4314   27772   12820  400558  \n",
       "2012    143954    9201              3706   23888   11391  411204  \n",
       "2013    131108    8996              3921  165994   12848  565314  \n",
       "2014    149234    9601              5009  194208   12188  625414  \n",
       "2015    157389    1864              3837   24548     915  435439  \n",
       "2016    136055    2153              4958  242851   13610  697017  \n",
       "2017    142487   13825              5280  495307   10232  928165  "
      ]
     },
     "execution_count": 1311,
     "metadata": {},
     "output_type": "execute_result"
    }
   ],
   "source": [
    "#In licenses dataset \"Total\" is the total of licenses in each region and year\n",
    "licenses_pt = pd.pivot_table(licenses, values='driving_licenses', index=['year'], columns=['region'])\n",
    "licenses_pt"
   ]
  },
  {
   "cell_type": "code",
   "execution_count": 1312,
   "metadata": {},
   "outputs": [
    {
     "data": {
      "text/plain": [
       "array(['Makkah', 'Eastern Region', 'Tabouk', 'Hail', 'Northern Boarder',\n",
       "       'Jazan', 'Al-Jouf', 'Total', 'Al-Baaha', 'Riyadh', 'Madinah',\n",
       "       'Qassim', 'Najran', 'Asir'], dtype=object)"
      ]
     },
     "execution_count": 1312,
     "metadata": {},
     "output_type": "execute_result"
    }
   ],
   "source": [
    "# Confirm the numbers of all regions add up to total.\n",
    "tr=traffic.region.unique()\n",
    "tr\n",
    "#there are 13 regions in saudi arabia if we drop 'Total' rows we end up with 13 regions with is true."
   ]
  },
  {
   "cell_type": "code",
   "execution_count": 1313,
   "metadata": {},
   "outputs": [
    {
     "data": {
      "text/plain": [
       "array(['Makkah', 'Madinah', 'Al-Qaseem', 'Eastern', 'Assir', 'Tabouk',\n",
       "       'Hail', 'Northern Boarder', 'Jazan', 'Najran', 'Al-Baha',\n",
       "       'Al-Jouf', 'Total', 'Riyadh'], dtype=object)"
      ]
     },
     "execution_count": 1313,
     "metadata": {},
     "output_type": "execute_result"
    }
   ],
   "source": [
    "#now we check licenses dataset\n",
    "li=licenses.region.unique()\n",
    "li\n",
    "#there are 13 regions in saudi arabia if we drop 'Total' rows we end up with 13 regions with is true."
   ]
  },
  {
   "cell_type": "code",
   "execution_count": 1314,
   "metadata": {},
   "outputs": [
    {
     "name": "stdout",
     "output_type": "stream",
     "text": [
      "Eastern Region\n",
      "Al-Baaha\n",
      "Qassim\n",
      "Asir\n"
     ]
    }
   ],
   "source": [
    "for r in tr:\n",
    "    if r not in li:\n",
    "        print (r)"
   ]
  },
  {
   "cell_type": "code",
   "execution_count": 1315,
   "metadata": {},
   "outputs": [],
   "source": [
    "traffic = traffic.replace(\"Eastern Region\",\"Eastern\")\n",
    "traffic = traffic.replace(\"Al-Baaha\",\"Al-Baha\")\n",
    "traffic = traffic.replace(\"Qassim\",\"Al-Qaseem\")\n",
    "traffic = traffic.replace(\"Asir\",\"Assir\")"
   ]
  },
  {
   "cell_type": "code",
   "execution_count": 1316,
   "metadata": {},
   "outputs": [],
   "source": [
    "#Remove the rows that are not associated with regions\n",
    "licenses.drop(licenses[licenses['region'] == 'Total'].index, inplace=True)\n",
    "traffic.drop(traffic[traffic['region'] == 'Total'].index, inplace=True)"
   ]
  },
  {
   "cell_type": "code",
   "execution_count": 1317,
   "metadata": {},
   "outputs": [
    {
     "data": {
      "text/html": [
       "<div>\n",
       "<style scoped>\n",
       "    .dataframe tbody tr th:only-of-type {\n",
       "        vertical-align: middle;\n",
       "    }\n",
       "\n",
       "    .dataframe tbody tr th {\n",
       "        vertical-align: top;\n",
       "    }\n",
       "\n",
       "    .dataframe thead th {\n",
       "        text-align: right;\n",
       "    }\n",
       "</style>\n",
       "<table border=\"1\" class=\"dataframe\">\n",
       "  <thead>\n",
       "    <tr style=\"text-align: right;\">\n",
       "      <th></th>\n",
       "      <th>year</th>\n",
       "      <th>region</th>\n",
       "      <th>driving_licenses</th>\n",
       "      <th>x</th>\n",
       "      <th>y</th>\n",
       "    </tr>\n",
       "  </thead>\n",
       "  <tbody>\n",
       "    <tr>\n",
       "      <th>0</th>\n",
       "      <td>2012</td>\n",
       "      <td>Makkah</td>\n",
       "      <td>143954</td>\n",
       "      <td>21.628963</td>\n",
       "      <td>41.26369</td>\n",
       "    </tr>\n",
       "    <tr>\n",
       "      <th>1</th>\n",
       "      <td>1994</td>\n",
       "      <td>Makkah</td>\n",
       "      <td>75349</td>\n",
       "      <td>21.628963</td>\n",
       "      <td>41.26369</td>\n",
       "    </tr>\n",
       "    <tr>\n",
       "      <th>2</th>\n",
       "      <td>1998</td>\n",
       "      <td>Makkah</td>\n",
       "      <td>86082</td>\n",
       "      <td>21.628963</td>\n",
       "      <td>41.26369</td>\n",
       "    </tr>\n",
       "    <tr>\n",
       "      <th>3</th>\n",
       "      <td>2004</td>\n",
       "      <td>Makkah</td>\n",
       "      <td>86636</td>\n",
       "      <td>21.628963</td>\n",
       "      <td>41.26369</td>\n",
       "    </tr>\n",
       "    <tr>\n",
       "      <th>4</th>\n",
       "      <td>2005</td>\n",
       "      <td>Makkah</td>\n",
       "      <td>65099</td>\n",
       "      <td>21.628963</td>\n",
       "      <td>41.26369</td>\n",
       "    </tr>\n",
       "  </tbody>\n",
       "</table>\n",
       "</div>"
      ],
      "text/plain": [
       "   year  region  driving_licenses          x         y\n",
       "0  2012  Makkah            143954  21.628963  41.26369\n",
       "1  1994  Makkah             75349  21.628963  41.26369\n",
       "2  1998  Makkah             86082  21.628963  41.26369\n",
       "3  2004  Makkah             86636  21.628963  41.26369\n",
       "4  2005  Makkah             65099  21.628963  41.26369"
      ]
     },
     "execution_count": 1317,
     "metadata": {},
     "output_type": "execute_result"
    }
   ],
   "source": [
    "licenses.head()"
   ]
  },
  {
   "cell_type": "code",
   "execution_count": 1318,
   "metadata": {},
   "outputs": [
    {
     "data": {
      "text/html": [
       "<div>\n",
       "<style scoped>\n",
       "    .dataframe tbody tr th:only-of-type {\n",
       "        vertical-align: middle;\n",
       "    }\n",
       "\n",
       "    .dataframe tbody tr th {\n",
       "        vertical-align: top;\n",
       "    }\n",
       "\n",
       "    .dataframe thead th {\n",
       "        text-align: right;\n",
       "    }\n",
       "</style>\n",
       "<table border=\"1\" class=\"dataframe\">\n",
       "  <thead>\n",
       "    <tr style=\"text-align: right;\">\n",
       "      <th></th>\n",
       "      <th>year</th>\n",
       "      <th>region</th>\n",
       "      <th>indicator</th>\n",
       "      <th>no_accidents</th>\n",
       "      <th>x</th>\n",
       "      <th>y</th>\n",
       "    </tr>\n",
       "  </thead>\n",
       "  <tbody>\n",
       "    <tr>\n",
       "      <th>0</th>\n",
       "      <td>2016</td>\n",
       "      <td>Makkah</td>\n",
       "      <td>No. of Casualties - Injured</td>\n",
       "      <td>12383</td>\n",
       "      <td>21.628963</td>\n",
       "      <td>41.263690</td>\n",
       "    </tr>\n",
       "    <tr>\n",
       "      <th>1</th>\n",
       "      <td>2016</td>\n",
       "      <td>Eastern</td>\n",
       "      <td>No. of Casualties - Dead</td>\n",
       "      <td>1113</td>\n",
       "      <td>23.288331</td>\n",
       "      <td>50.147830</td>\n",
       "    </tr>\n",
       "    <tr>\n",
       "      <th>2</th>\n",
       "      <td>2016</td>\n",
       "      <td>Tabouk</td>\n",
       "      <td>No. of Casualties - Dead</td>\n",
       "      <td>434</td>\n",
       "      <td>27.901655</td>\n",
       "      <td>37.259858</td>\n",
       "    </tr>\n",
       "    <tr>\n",
       "      <th>3</th>\n",
       "      <td>2016</td>\n",
       "      <td>Hail</td>\n",
       "      <td>No. of Casualties - Dead</td>\n",
       "      <td>299</td>\n",
       "      <td>27.400846</td>\n",
       "      <td>41.440696</td>\n",
       "    </tr>\n",
       "    <tr>\n",
       "      <th>4</th>\n",
       "      <td>2016</td>\n",
       "      <td>Hail</td>\n",
       "      <td>No. of Accidents</td>\n",
       "      <td>10199</td>\n",
       "      <td>27.400846</td>\n",
       "      <td>41.440696</td>\n",
       "    </tr>\n",
       "  </tbody>\n",
       "</table>\n",
       "</div>"
      ],
      "text/plain": [
       "   year   region                    indicator  no_accidents          x  \\\n",
       "0  2016   Makkah  No. of Casualties - Injured         12383  21.628963   \n",
       "1  2016  Eastern     No. of Casualties - Dead          1113  23.288331   \n",
       "2  2016   Tabouk     No. of Casualties - Dead           434  27.901655   \n",
       "3  2016     Hail     No. of Casualties - Dead           299  27.400846   \n",
       "4  2016     Hail             No. of Accidents         10199  27.400846   \n",
       "\n",
       "           y  \n",
       "0  41.263690  \n",
       "1  50.147830  \n",
       "2  37.259858  \n",
       "3  41.440696  \n",
       "4  41.440696  "
      ]
     },
     "execution_count": 1318,
     "metadata": {},
     "output_type": "execute_result"
    }
   ],
   "source": [
    "traffic.head()"
   ]
  },
  {
   "cell_type": "markdown",
   "metadata": {},
   "source": [
    "#### 10a. Data formats\n",
    "Is the License data in long or wide format? How about the Accident data? And why?"
   ]
  },
  {
   "cell_type": "code",
   "execution_count": 1319,
   "metadata": {},
   "outputs": [],
   "source": [
    "#code\n",
    "#Licenses data is a wide format, becuase it covers all variables.\n",
    "#Accident data is a long format, indicator is melt to be row instead of column which cause duplicates."
   ]
  },
  {
   "cell_type": "markdown",
   "metadata": {},
   "source": [
    "#### 10b. Changing formats\n",
    "Which format would work best for both dataframes? Transform the datasets to the same format before merging in the next task."
   ]
  },
  {
   "cell_type": "code",
   "execution_count": 1320,
   "metadata": {},
   "outputs": [
    {
     "data": {
      "text/html": [
       "<div>\n",
       "<style scoped>\n",
       "    .dataframe tbody tr th:only-of-type {\n",
       "        vertical-align: middle;\n",
       "    }\n",
       "\n",
       "    .dataframe tbody tr th {\n",
       "        vertical-align: top;\n",
       "    }\n",
       "\n",
       "    .dataframe thead th {\n",
       "        text-align: right;\n",
       "    }\n",
       "</style>\n",
       "<table border=\"1\" class=\"dataframe\">\n",
       "  <thead>\n",
       "    <tr style=\"text-align: right;\">\n",
       "      <th></th>\n",
       "      <th>year</th>\n",
       "      <th>region</th>\n",
       "      <th>indicator</th>\n",
       "      <th>no_accidents</th>\n",
       "      <th>x</th>\n",
       "      <th>y</th>\n",
       "    </tr>\n",
       "  </thead>\n",
       "  <tbody>\n",
       "    <tr>\n",
       "      <th>0</th>\n",
       "      <td>2016</td>\n",
       "      <td>Makkah</td>\n",
       "      <td>No. of Casualties - Injured</td>\n",
       "      <td>12383</td>\n",
       "      <td>21.628963</td>\n",
       "      <td>41.263690</td>\n",
       "    </tr>\n",
       "    <tr>\n",
       "      <th>1</th>\n",
       "      <td>2016</td>\n",
       "      <td>Eastern</td>\n",
       "      <td>No. of Casualties - Dead</td>\n",
       "      <td>1113</td>\n",
       "      <td>23.288331</td>\n",
       "      <td>50.147830</td>\n",
       "    </tr>\n",
       "    <tr>\n",
       "      <th>2</th>\n",
       "      <td>2016</td>\n",
       "      <td>Tabouk</td>\n",
       "      <td>No. of Casualties - Dead</td>\n",
       "      <td>434</td>\n",
       "      <td>27.901655</td>\n",
       "      <td>37.259858</td>\n",
       "    </tr>\n",
       "    <tr>\n",
       "      <th>3</th>\n",
       "      <td>2016</td>\n",
       "      <td>Hail</td>\n",
       "      <td>No. of Casualties - Dead</td>\n",
       "      <td>299</td>\n",
       "      <td>27.400846</td>\n",
       "      <td>41.440696</td>\n",
       "    </tr>\n",
       "  </tbody>\n",
       "</table>\n",
       "</div>"
      ],
      "text/plain": [
       "   year   region                    indicator  no_accidents          x  \\\n",
       "0  2016   Makkah  No. of Casualties - Injured         12383  21.628963   \n",
       "1  2016  Eastern     No. of Casualties - Dead          1113  23.288331   \n",
       "2  2016   Tabouk     No. of Casualties - Dead           434  27.901655   \n",
       "3  2016     Hail     No. of Casualties - Dead           299  27.400846   \n",
       "\n",
       "           y  \n",
       "0  41.263690  \n",
       "1  50.147830  \n",
       "2  37.259858  \n",
       "3  41.440696  "
      ]
     },
     "execution_count": 1320,
     "metadata": {},
     "output_type": "execute_result"
    }
   ],
   "source": [
    "#Licenses data is wide format becuase it covers all variables, traffic is long format.\n",
    "traffic.head(4)"
   ]
  },
  {
   "cell_type": "code",
   "execution_count": 1321,
   "metadata": {},
   "outputs": [],
   "source": [
    "#code \n",
    "#Tranform the traffic dataset to the wide format \n",
    "traffic_pvt = pd.pivot_table(traffic, values='no_accidents', index=['region', 'year'], columns=['indicator'])\n",
    "traffic_pvt=traffic_pvt.reset_index()\n",
    "traffic_pvt.columns = [str(x).replace(' ', '_') for x in traffic_pvt.columns]\n"
   ]
  },
  {
   "cell_type": "markdown",
   "metadata": {},
   "source": [
    "#### 11. Merge dataframes\n",
    "\n",
    "Join the Driving Licenses & Traffic Accidents dataframes using the **region** and **year** in each dataframe as the key. Assign this to a new variable. Which join should you use to preserve the most data?"
   ]
  },
  {
   "cell_type": "code",
   "execution_count": 1322,
   "metadata": {},
   "outputs": [
    {
     "data": {
      "text/html": [
       "<div>\n",
       "<style scoped>\n",
       "    .dataframe tbody tr th:only-of-type {\n",
       "        vertical-align: middle;\n",
       "    }\n",
       "\n",
       "    .dataframe tbody tr th {\n",
       "        vertical-align: top;\n",
       "    }\n",
       "\n",
       "    .dataframe thead th {\n",
       "        text-align: right;\n",
       "    }\n",
       "</style>\n",
       "<table border=\"1\" class=\"dataframe\">\n",
       "  <thead>\n",
       "    <tr style=\"text-align: right;\">\n",
       "      <th></th>\n",
       "      <th>region</th>\n",
       "      <th>year</th>\n",
       "      <th>no_of_accidents</th>\n",
       "      <th>no_of_dead</th>\n",
       "      <th>no_of_injured</th>\n",
       "      <th>driving_licenses</th>\n",
       "      <th>x</th>\n",
       "      <th>y</th>\n",
       "    </tr>\n",
       "  </thead>\n",
       "  <tbody>\n",
       "    <tr>\n",
       "      <th>0</th>\n",
       "      <td>Al-Baha</td>\n",
       "      <td>2016</td>\n",
       "      <td>3618</td>\n",
       "      <td>185</td>\n",
       "      <td>1227</td>\n",
       "      <td>4614</td>\n",
       "      <td>20.148406</td>\n",
       "      <td>41.466548</td>\n",
       "    </tr>\n",
       "    <tr>\n",
       "      <th>1</th>\n",
       "      <td>Al-Baha</td>\n",
       "      <td>2017</td>\n",
       "      <td>1414</td>\n",
       "      <td>134</td>\n",
       "      <td>1007</td>\n",
       "      <td>4131</td>\n",
       "      <td>20.148406</td>\n",
       "      <td>41.466548</td>\n",
       "    </tr>\n",
       "    <tr>\n",
       "      <th>2</th>\n",
       "      <td>Al-Jouf</td>\n",
       "      <td>2016</td>\n",
       "      <td>10212</td>\n",
       "      <td>245</td>\n",
       "      <td>920</td>\n",
       "      <td>9371</td>\n",
       "      <td>29.967745</td>\n",
       "      <td>39.557037</td>\n",
       "    </tr>\n",
       "    <tr>\n",
       "      <th>3</th>\n",
       "      <td>Al-Jouf</td>\n",
       "      <td>2017</td>\n",
       "      <td>10469</td>\n",
       "      <td>240</td>\n",
       "      <td>862</td>\n",
       "      <td>8091</td>\n",
       "      <td>29.967745</td>\n",
       "      <td>39.557037</td>\n",
       "    </tr>\n",
       "    <tr>\n",
       "      <th>4</th>\n",
       "      <td>Al-Qaseem</td>\n",
       "      <td>2016</td>\n",
       "      <td>25664</td>\n",
       "      <td>397</td>\n",
       "      <td>1513</td>\n",
       "      <td>9180</td>\n",
       "      <td>26.196706</td>\n",
       "      <td>43.343000</td>\n",
       "    </tr>\n",
       "    <tr>\n",
       "      <th>5</th>\n",
       "      <td>Al-Qaseem</td>\n",
       "      <td>2017</td>\n",
       "      <td>22405</td>\n",
       "      <td>319</td>\n",
       "      <td>1446</td>\n",
       "      <td>6318</td>\n",
       "      <td>26.196706</td>\n",
       "      <td>43.343000</td>\n",
       "    </tr>\n",
       "    <tr>\n",
       "      <th>6</th>\n",
       "      <td>Assir</td>\n",
       "      <td>2016</td>\n",
       "      <td>32684</td>\n",
       "      <td>983</td>\n",
       "      <td>2541</td>\n",
       "      <td>41367</td>\n",
       "      <td>19.138785</td>\n",
       "      <td>42.941470</td>\n",
       "    </tr>\n",
       "    <tr>\n",
       "      <th>7</th>\n",
       "      <td>Assir</td>\n",
       "      <td>2017</td>\n",
       "      <td>25245</td>\n",
       "      <td>828</td>\n",
       "      <td>2368</td>\n",
       "      <td>39133</td>\n",
       "      <td>19.138785</td>\n",
       "      <td>42.941470</td>\n",
       "    </tr>\n",
       "    <tr>\n",
       "      <th>8</th>\n",
       "      <td>Eastern</td>\n",
       "      <td>2016</td>\n",
       "      <td>101619</td>\n",
       "      <td>1113</td>\n",
       "      <td>4893</td>\n",
       "      <td>142307</td>\n",
       "      <td>23.288331</td>\n",
       "      <td>50.147830</td>\n",
       "    </tr>\n",
       "    <tr>\n",
       "      <th>9</th>\n",
       "      <td>Eastern</td>\n",
       "      <td>2017</td>\n",
       "      <td>81433</td>\n",
       "      <td>963</td>\n",
       "      <td>4073</td>\n",
       "      <td>126816</td>\n",
       "      <td>23.288331</td>\n",
       "      <td>50.147830</td>\n",
       "    </tr>\n",
       "    <tr>\n",
       "      <th>10</th>\n",
       "      <td>Hail</td>\n",
       "      <td>2016</td>\n",
       "      <td>10199</td>\n",
       "      <td>299</td>\n",
       "      <td>932</td>\n",
       "      <td>54507</td>\n",
       "      <td>27.400846</td>\n",
       "      <td>41.440696</td>\n",
       "    </tr>\n",
       "    <tr>\n",
       "      <th>11</th>\n",
       "      <td>Hail</td>\n",
       "      <td>2017</td>\n",
       "      <td>9379</td>\n",
       "      <td>265</td>\n",
       "      <td>773</td>\n",
       "      <td>22035</td>\n",
       "      <td>27.400846</td>\n",
       "      <td>41.440696</td>\n",
       "    </tr>\n",
       "    <tr>\n",
       "      <th>12</th>\n",
       "      <td>Jazan</td>\n",
       "      <td>2016</td>\n",
       "      <td>25873</td>\n",
       "      <td>514</td>\n",
       "      <td>2259</td>\n",
       "      <td>11504</td>\n",
       "      <td>17.207231</td>\n",
       "      <td>42.652581</td>\n",
       "    </tr>\n",
       "    <tr>\n",
       "      <th>13</th>\n",
       "      <td>Jazan</td>\n",
       "      <td>2017</td>\n",
       "      <td>22161</td>\n",
       "      <td>466</td>\n",
       "      <td>2207</td>\n",
       "      <td>18345</td>\n",
       "      <td>17.207231</td>\n",
       "      <td>42.652581</td>\n",
       "    </tr>\n",
       "    <tr>\n",
       "      <th>14</th>\n",
       "      <td>Madinah</td>\n",
       "      <td>2016</td>\n",
       "      <td>14475</td>\n",
       "      <td>822</td>\n",
       "      <td>4184</td>\n",
       "      <td>24540</td>\n",
       "      <td>24.927535</td>\n",
       "      <td>39.491824</td>\n",
       "    </tr>\n",
       "    <tr>\n",
       "      <th>15</th>\n",
       "      <td>Madinah</td>\n",
       "      <td>2017</td>\n",
       "      <td>16070</td>\n",
       "      <td>580</td>\n",
       "      <td>2917</td>\n",
       "      <td>36165</td>\n",
       "      <td>24.927535</td>\n",
       "      <td>39.491824</td>\n",
       "    </tr>\n",
       "    <tr>\n",
       "      <th>16</th>\n",
       "      <td>Makkah</td>\n",
       "      <td>2016</td>\n",
       "      <td>134838</td>\n",
       "      <td>2243</td>\n",
       "      <td>12383</td>\n",
       "      <td>136055</td>\n",
       "      <td>21.628963</td>\n",
       "      <td>41.263690</td>\n",
       "    </tr>\n",
       "    <tr>\n",
       "      <th>17</th>\n",
       "      <td>Makkah</td>\n",
       "      <td>2017</td>\n",
       "      <td>145541</td>\n",
       "      <td>1641</td>\n",
       "      <td>10623</td>\n",
       "      <td>142487</td>\n",
       "      <td>21.628963</td>\n",
       "      <td>41.263690</td>\n",
       "    </tr>\n",
       "    <tr>\n",
       "      <th>18</th>\n",
       "      <td>Najran</td>\n",
       "      <td>2016</td>\n",
       "      <td>3235</td>\n",
       "      <td>173</td>\n",
       "      <td>706</td>\n",
       "      <td>2153</td>\n",
       "      <td>18.451100</td>\n",
       "      <td>46.868850</td>\n",
       "    </tr>\n",
       "    <tr>\n",
       "      <th>19</th>\n",
       "      <td>Najran</td>\n",
       "      <td>2017</td>\n",
       "      <td>3193</td>\n",
       "      <td>194</td>\n",
       "      <td>766</td>\n",
       "      <td>13825</td>\n",
       "      <td>18.451100</td>\n",
       "      <td>46.868850</td>\n",
       "    </tr>\n",
       "    <tr>\n",
       "      <th>20</th>\n",
       "      <td>Northern Boarder</td>\n",
       "      <td>2016</td>\n",
       "      <td>13196</td>\n",
       "      <td>193</td>\n",
       "      <td>631</td>\n",
       "      <td>4958</td>\n",
       "      <td>30.197075</td>\n",
       "      <td>41.817119</td>\n",
       "    </tr>\n",
       "    <tr>\n",
       "      <th>21</th>\n",
       "      <td>Northern Boarder</td>\n",
       "      <td>2017</td>\n",
       "      <td>11540</td>\n",
       "      <td>112</td>\n",
       "      <td>374</td>\n",
       "      <td>5280</td>\n",
       "      <td>30.197075</td>\n",
       "      <td>41.817119</td>\n",
       "    </tr>\n",
       "    <tr>\n",
       "      <th>22</th>\n",
       "      <td>Riyadh</td>\n",
       "      <td>2016</td>\n",
       "      <td>141736</td>\n",
       "      <td>1430</td>\n",
       "      <td>4207</td>\n",
       "      <td>242851</td>\n",
       "      <td>23.081434</td>\n",
       "      <td>45.585751</td>\n",
       "    </tr>\n",
       "    <tr>\n",
       "      <th>23</th>\n",
       "      <td>Riyadh</td>\n",
       "      <td>2017</td>\n",
       "      <td>99925</td>\n",
       "      <td>1399</td>\n",
       "      <td>4540</td>\n",
       "      <td>495307</td>\n",
       "      <td>23.081434</td>\n",
       "      <td>45.585751</td>\n",
       "    </tr>\n",
       "    <tr>\n",
       "      <th>24</th>\n",
       "      <td>Tabouk</td>\n",
       "      <td>2016</td>\n",
       "      <td>16031</td>\n",
       "      <td>434</td>\n",
       "      <td>1724</td>\n",
       "      <td>13610</td>\n",
       "      <td>27.901655</td>\n",
       "      <td>37.259858</td>\n",
       "    </tr>\n",
       "    <tr>\n",
       "      <th>25</th>\n",
       "      <td>Tabouk</td>\n",
       "      <td>2017</td>\n",
       "      <td>11713</td>\n",
       "      <td>348</td>\n",
       "      <td>1243</td>\n",
       "      <td>10232</td>\n",
       "      <td>27.901655</td>\n",
       "      <td>37.259858</td>\n",
       "    </tr>\n",
       "  </tbody>\n",
       "</table>\n",
       "</div>"
      ],
      "text/plain": [
       "              region  year  no_of_accidents  no_of_dead  no_of_injured  \\\n",
       "0            Al-Baha  2016             3618         185           1227   \n",
       "1            Al-Baha  2017             1414         134           1007   \n",
       "2            Al-Jouf  2016            10212         245            920   \n",
       "3            Al-Jouf  2017            10469         240            862   \n",
       "4          Al-Qaseem  2016            25664         397           1513   \n",
       "5          Al-Qaseem  2017            22405         319           1446   \n",
       "6              Assir  2016            32684         983           2541   \n",
       "7              Assir  2017            25245         828           2368   \n",
       "8            Eastern  2016           101619        1113           4893   \n",
       "9            Eastern  2017            81433         963           4073   \n",
       "10              Hail  2016            10199         299            932   \n",
       "11              Hail  2017             9379         265            773   \n",
       "12             Jazan  2016            25873         514           2259   \n",
       "13             Jazan  2017            22161         466           2207   \n",
       "14           Madinah  2016            14475         822           4184   \n",
       "15           Madinah  2017            16070         580           2917   \n",
       "16            Makkah  2016           134838        2243          12383   \n",
       "17            Makkah  2017           145541        1641          10623   \n",
       "18            Najran  2016             3235         173            706   \n",
       "19            Najran  2017             3193         194            766   \n",
       "20  Northern Boarder  2016            13196         193            631   \n",
       "21  Northern Boarder  2017            11540         112            374   \n",
       "22            Riyadh  2016           141736        1430           4207   \n",
       "23            Riyadh  2017            99925        1399           4540   \n",
       "24            Tabouk  2016            16031         434           1724   \n",
       "25            Tabouk  2017            11713         348           1243   \n",
       "\n",
       "    driving_licenses          x          y  \n",
       "0               4614  20.148406  41.466548  \n",
       "1               4131  20.148406  41.466548  \n",
       "2               9371  29.967745  39.557037  \n",
       "3               8091  29.967745  39.557037  \n",
       "4               9180  26.196706  43.343000  \n",
       "5               6318  26.196706  43.343000  \n",
       "6              41367  19.138785  42.941470  \n",
       "7              39133  19.138785  42.941470  \n",
       "8             142307  23.288331  50.147830  \n",
       "9             126816  23.288331  50.147830  \n",
       "10             54507  27.400846  41.440696  \n",
       "11             22035  27.400846  41.440696  \n",
       "12             11504  17.207231  42.652581  \n",
       "13             18345  17.207231  42.652581  \n",
       "14             24540  24.927535  39.491824  \n",
       "15             36165  24.927535  39.491824  \n",
       "16            136055  21.628963  41.263690  \n",
       "17            142487  21.628963  41.263690  \n",
       "18              2153  18.451100  46.868850  \n",
       "19             13825  18.451100  46.868850  \n",
       "20              4958  30.197075  41.817119  \n",
       "21              5280  30.197075  41.817119  \n",
       "22            242851  23.081434  45.585751  \n",
       "23            495307  23.081434  45.585751  \n",
       "24             13610  27.901655  37.259858  \n",
       "25             10232  27.901655  37.259858  "
      ]
     },
     "execution_count": 1322,
     "metadata": {},
     "output_type": "execute_result"
    }
   ],
   "source": [
    "#code\n",
    "# We will join on inner which will bring data from both tables with excluding null value (FULL inner JOIN)\n",
    "df_merged= pd.merge(traffic_pvt,licenses, on=['region','year'], how='inner')\n",
    "counter=0\n",
    "for n in df_merged.columns.values:\n",
    "    df_merged.columns.values[counter] = n.replace(' ', '_').lower().replace('.', '').replace('-', '')\n",
    "    counter+=1\n",
    "df_merged.rename(columns={'no_of_casualties__dead': 'no_of_dead', \n",
    "                            'no_of_casualties__injured': 'no_of_injured'}, inplace=True)\n",
    "df_merged"
   ]
  },
  {
   "cell_type": "markdown",
   "metadata": {},
   "source": [
    "#### 12. Save your cleaned, merged dataframe\n",
    "\n",
    "Use a relative path to save out your data as `combined_datasets.csv`."
   ]
  },
  {
   "cell_type": "code",
   "execution_count": 1323,
   "metadata": {},
   "outputs": [],
   "source": [
    "#code\n",
    "df_merged.to_csv('../data/combined_datasets.csv',index = None, header=True)\n"
   ]
  },
  {
   "cell_type": "markdown",
   "metadata": {},
   "source": [
    "## Exploratory Data Analysis\n",
    "\n",
    "\n",
    "### Summary Statistics\n",
    "Transpose the output of pandas `describe` method to create a quick overview of each numeric feature."
   ]
  },
  {
   "cell_type": "code",
   "execution_count": 1324,
   "metadata": {},
   "outputs": [
    {
     "data": {
      "text/html": [
       "<div>\n",
       "<style scoped>\n",
       "    .dataframe tbody tr th:only-of-type {\n",
       "        vertical-align: middle;\n",
       "    }\n",
       "\n",
       "    .dataframe tbody tr th {\n",
       "        vertical-align: top;\n",
       "    }\n",
       "\n",
       "    .dataframe thead th {\n",
       "        text-align: right;\n",
       "    }\n",
       "</style>\n",
       "<table border=\"1\" class=\"dataframe\">\n",
       "  <thead>\n",
       "    <tr style=\"text-align: right;\">\n",
       "      <th></th>\n",
       "      <th>count</th>\n",
       "      <th>mean</th>\n",
       "      <th>std</th>\n",
       "      <th>min</th>\n",
       "      <th>25%</th>\n",
       "      <th>50%</th>\n",
       "      <th>75%</th>\n",
       "      <th>max</th>\n",
       "    </tr>\n",
       "  </thead>\n",
       "  <tbody>\n",
       "    <tr>\n",
       "      <th>year</th>\n",
       "      <td>26.0</td>\n",
       "      <td>2016.500000</td>\n",
       "      <td>0.509902</td>\n",
       "      <td>2016.000000</td>\n",
       "      <td>2016.000000</td>\n",
       "      <td>2016.500000</td>\n",
       "      <td>2017.000000</td>\n",
       "      <td>2017.000000</td>\n",
       "    </tr>\n",
       "    <tr>\n",
       "      <th>no_of_accidents</th>\n",
       "      <td>26.0</td>\n",
       "      <td>38225.692308</td>\n",
       "      <td>46493.705035</td>\n",
       "      <td>1414.000000</td>\n",
       "      <td>10276.250000</td>\n",
       "      <td>16050.500000</td>\n",
       "      <td>30981.250000</td>\n",
       "      <td>145541.000000</td>\n",
       "    </tr>\n",
       "    <tr>\n",
       "      <th>no_of_dead</th>\n",
       "      <td>26.0</td>\n",
       "      <td>635.384615</td>\n",
       "      <td>549.783381</td>\n",
       "      <td>112.000000</td>\n",
       "      <td>241.250000</td>\n",
       "      <td>415.500000</td>\n",
       "      <td>929.250000</td>\n",
       "      <td>2243.000000</td>\n",
       "    </tr>\n",
       "    <tr>\n",
       "      <th>no_of_injured</th>\n",
       "      <td>26.0</td>\n",
       "      <td>2743.038462</td>\n",
       "      <td>2922.641127</td>\n",
       "      <td>374.000000</td>\n",
       "      <td>923.000000</td>\n",
       "      <td>1618.500000</td>\n",
       "      <td>3784.000000</td>\n",
       "      <td>12383.000000</td>\n",
       "    </tr>\n",
       "    <tr>\n",
       "      <th>driving_licenses</th>\n",
       "      <td>26.0</td>\n",
       "      <td>62507.000000</td>\n",
       "      <td>107293.917762</td>\n",
       "      <td>2153.000000</td>\n",
       "      <td>8363.250000</td>\n",
       "      <td>16085.000000</td>\n",
       "      <td>51222.000000</td>\n",
       "      <td>495307.000000</td>\n",
       "    </tr>\n",
       "    <tr>\n",
       "      <th>x</th>\n",
       "      <td>26.0</td>\n",
       "      <td>23.810447</td>\n",
       "      <td>4.274533</td>\n",
       "      <td>17.207231</td>\n",
       "      <td>20.148406</td>\n",
       "      <td>23.288331</td>\n",
       "      <td>27.400846</td>\n",
       "      <td>30.197075</td>\n",
       "    </tr>\n",
       "    <tr>\n",
       "      <th>y</th>\n",
       "      <td>26.0</td>\n",
       "      <td>42.602789</td>\n",
       "      <td>3.313532</td>\n",
       "      <td>37.259858</td>\n",
       "      <td>41.263690</td>\n",
       "      <td>41.817119</td>\n",
       "      <td>43.343000</td>\n",
       "      <td>50.147830</td>\n",
       "    </tr>\n",
       "  </tbody>\n",
       "</table>\n",
       "</div>"
      ],
      "text/plain": [
       "                  count          mean            std          min  \\\n",
       "year               26.0   2016.500000       0.509902  2016.000000   \n",
       "no_of_accidents    26.0  38225.692308   46493.705035  1414.000000   \n",
       "no_of_dead         26.0    635.384615     549.783381   112.000000   \n",
       "no_of_injured      26.0   2743.038462    2922.641127   374.000000   \n",
       "driving_licenses   26.0  62507.000000  107293.917762  2153.000000   \n",
       "x                  26.0     23.810447       4.274533    17.207231   \n",
       "y                  26.0     42.602789       3.313532    37.259858   \n",
       "\n",
       "                           25%           50%           75%            max  \n",
       "year               2016.000000   2016.500000   2017.000000    2017.000000  \n",
       "no_of_accidents   10276.250000  16050.500000  30981.250000  145541.000000  \n",
       "no_of_dead          241.250000    415.500000    929.250000    2243.000000  \n",
       "no_of_injured       923.000000   1618.500000   3784.000000   12383.000000  \n",
       "driving_licenses   8363.250000  16085.000000  51222.000000  495307.000000  \n",
       "x                    20.148406     23.288331     27.400846      30.197075  \n",
       "y                    41.263690     41.817119     43.343000      50.147830  "
      ]
     },
     "execution_count": 1324,
     "metadata": {},
     "output_type": "execute_result"
    }
   ],
   "source": [
    "#Describe with transpose\n",
    "#Code:\n",
    "df_merged.describe().T"
   ]
  },
  {
   "cell_type": "markdown",
   "metadata": {},
   "source": [
    "#### Manually calculate standard deviation\n",
    "\n",
    "$$\\sigma = \\sqrt{\\frac{1}{n}\\sum_{i=1}^n(x_i - \\mu)^2}$$\n",
    "\n",
    "- Write a function to calculate standard deviation using the formula above"
   ]
  },
  {
   "cell_type": "code",
   "execution_count": 1325,
   "metadata": {},
   "outputs": [],
   "source": [
    "#Manually\n",
    "#code\n",
    "import math\n",
    "def stdev(data,ddof=0):\n",
    "    n = len(data)\n",
    "    mean = sum(data) / n\n",
    "    var= sum((x - mean) ** 2 for x in data) / (n - ddof)\n",
    "    std_dev = math.sqrt(var)\n",
    "    return std_dev\n"
   ]
  },
  {
   "cell_type": "code",
   "execution_count": 1326,
   "metadata": {},
   "outputs": [
    {
     "data": {
      "text/plain": [
       "2865.8854113220236"
      ]
     },
     "execution_count": 1326,
     "metadata": {},
     "output_type": "execute_result"
    }
   ],
   "source": [
    "stdev(df_merged['no_of_injured'])"
   ]
  },
  {
   "cell_type": "markdown",
   "metadata": {},
   "source": [
    "- Use a **dictionary comprehension** to apply your standard deviation function to each numeric column in the dataframe.  **No loops**  \n",
    "- Assign the output to variable `sd` as a dictionary where: \n",
    "    - Each column name is now a key \n",
    "    - That standard deviation of the column is the value \n",
    "     \n",
    "*Example Output :* `{'Driving_Licenses_x': 120, 'Traffic_Accidents_x': 120, ...}`"
   ]
  },
  {
   "cell_type": "code",
   "execution_count": 1327,
   "metadata": {},
   "outputs": [
    {
     "data": {
      "text/plain": [
       "region               object\n",
       "year                  int64\n",
       "no_of_accidents       int64\n",
       "no_of_dead            int64\n",
       "no_of_injured         int64\n",
       "driving_licenses      int64\n",
       "x                   float64\n",
       "y                   float64\n",
       "dtype: object"
      ]
     },
     "execution_count": 1327,
     "metadata": {},
     "output_type": "execute_result"
    }
   ],
   "source": [
    "df_merged.dtypes"
   ]
  },
  {
   "cell_type": "code",
   "execution_count": 1328,
   "metadata": {},
   "outputs": [
    {
     "data": {
      "text/plain": [
       "{'year': 0.5,\n",
       " 'no_of_accidents': 45590.82869880506,\n",
       " 'no_of_dead': 539.1069593406002,\n",
       " 'no_of_injured': 2865.8854113220236,\n",
       " 'driving_licenses': 105210.34237659337,\n",
       " 'x': 4.191524025811861,\n",
       " 'y': 3.249185305131691}"
      ]
     },
     "execution_count": 1328,
     "metadata": {},
     "output_type": "execute_result"
    }
   ],
   "source": [
    "#Code:\n",
    "sd={k:stdev(v) for k,v in df_merged.items() if (df_merged[k].dtype=='float64') or (df_merged[k].dtype=='int64') }\n",
    "sd"
   ]
  },
  {
   "cell_type": "code",
   "execution_count": 1329,
   "metadata": {
    "scrolled": true
   },
   "outputs": [
    {
     "data": {
      "text/html": [
       "<div>\n",
       "<style scoped>\n",
       "    .dataframe tbody tr th:only-of-type {\n",
       "        vertical-align: middle;\n",
       "    }\n",
       "\n",
       "    .dataframe tbody tr th {\n",
       "        vertical-align: top;\n",
       "    }\n",
       "\n",
       "    .dataframe thead th {\n",
       "        text-align: right;\n",
       "    }\n",
       "</style>\n",
       "<table border=\"1\" class=\"dataframe\">\n",
       "  <thead>\n",
       "    <tr style=\"text-align: right;\">\n",
       "      <th></th>\n",
       "      <th>year</th>\n",
       "      <th>no_of_accidents</th>\n",
       "      <th>no_of_dead</th>\n",
       "      <th>no_of_injured</th>\n",
       "      <th>driving_licenses</th>\n",
       "      <th>x</th>\n",
       "      <th>y</th>\n",
       "    </tr>\n",
       "  </thead>\n",
       "  <tbody>\n",
       "    <tr>\n",
       "      <th>count</th>\n",
       "      <td>26.000000</td>\n",
       "      <td>26.000000</td>\n",
       "      <td>26.000000</td>\n",
       "      <td>26.000000</td>\n",
       "      <td>26.000000</td>\n",
       "      <td>26.000000</td>\n",
       "      <td>26.000000</td>\n",
       "    </tr>\n",
       "    <tr>\n",
       "      <th>mean</th>\n",
       "      <td>2016.500000</td>\n",
       "      <td>38225.692308</td>\n",
       "      <td>635.384615</td>\n",
       "      <td>2743.038462</td>\n",
       "      <td>62507.000000</td>\n",
       "      <td>23.810447</td>\n",
       "      <td>42.602789</td>\n",
       "    </tr>\n",
       "    <tr>\n",
       "      <th>std</th>\n",
       "      <td>0.509902</td>\n",
       "      <td>46493.705035</td>\n",
       "      <td>549.783381</td>\n",
       "      <td>2922.641127</td>\n",
       "      <td>107293.917762</td>\n",
       "      <td>4.274533</td>\n",
       "      <td>3.313532</td>\n",
       "    </tr>\n",
       "    <tr>\n",
       "      <th>min</th>\n",
       "      <td>2016.000000</td>\n",
       "      <td>1414.000000</td>\n",
       "      <td>112.000000</td>\n",
       "      <td>374.000000</td>\n",
       "      <td>2153.000000</td>\n",
       "      <td>17.207231</td>\n",
       "      <td>37.259858</td>\n",
       "    </tr>\n",
       "    <tr>\n",
       "      <th>25%</th>\n",
       "      <td>2016.000000</td>\n",
       "      <td>10276.250000</td>\n",
       "      <td>241.250000</td>\n",
       "      <td>923.000000</td>\n",
       "      <td>8363.250000</td>\n",
       "      <td>20.148406</td>\n",
       "      <td>41.263690</td>\n",
       "    </tr>\n",
       "    <tr>\n",
       "      <th>50%</th>\n",
       "      <td>2016.500000</td>\n",
       "      <td>16050.500000</td>\n",
       "      <td>415.500000</td>\n",
       "      <td>1618.500000</td>\n",
       "      <td>16085.000000</td>\n",
       "      <td>23.288331</td>\n",
       "      <td>41.817119</td>\n",
       "    </tr>\n",
       "    <tr>\n",
       "      <th>75%</th>\n",
       "      <td>2017.000000</td>\n",
       "      <td>30981.250000</td>\n",
       "      <td>929.250000</td>\n",
       "      <td>3784.000000</td>\n",
       "      <td>51222.000000</td>\n",
       "      <td>27.400846</td>\n",
       "      <td>43.343000</td>\n",
       "    </tr>\n",
       "    <tr>\n",
       "      <th>max</th>\n",
       "      <td>2017.000000</td>\n",
       "      <td>145541.000000</td>\n",
       "      <td>2243.000000</td>\n",
       "      <td>12383.000000</td>\n",
       "      <td>495307.000000</td>\n",
       "      <td>30.197075</td>\n",
       "      <td>50.147830</td>\n",
       "    </tr>\n",
       "  </tbody>\n",
       "</table>\n",
       "</div>"
      ],
      "text/plain": [
       "              year  no_of_accidents   no_of_dead  no_of_injured  \\\n",
       "count    26.000000        26.000000    26.000000      26.000000   \n",
       "mean   2016.500000     38225.692308   635.384615    2743.038462   \n",
       "std       0.509902     46493.705035   549.783381    2922.641127   \n",
       "min    2016.000000      1414.000000   112.000000     374.000000   \n",
       "25%    2016.000000     10276.250000   241.250000     923.000000   \n",
       "50%    2016.500000     16050.500000   415.500000    1618.500000   \n",
       "75%    2017.000000     30981.250000   929.250000    3784.000000   \n",
       "max    2017.000000    145541.000000  2243.000000   12383.000000   \n",
       "\n",
       "       driving_licenses          x          y  \n",
       "count         26.000000  26.000000  26.000000  \n",
       "mean       62507.000000  23.810447  42.602789  \n",
       "std       107293.917762   4.274533   3.313532  \n",
       "min         2153.000000  17.207231  37.259858  \n",
       "25%         8363.250000  20.148406  41.263690  \n",
       "50%        16085.000000  23.288331  41.817119  \n",
       "75%        51222.000000  27.400846  43.343000  \n",
       "max       495307.000000  30.197075  50.147830  "
      ]
     },
     "execution_count": 1329,
     "metadata": {},
     "output_type": "execute_result"
    }
   ],
   "source": [
    "df_merged.describe()"
   ]
  },
  {
   "cell_type": "code",
   "execution_count": 1330,
   "metadata": {},
   "outputs": [
    {
     "data": {
      "text/plain": [
       "year                     0.500000\n",
       "no_of_accidents      45590.828699\n",
       "no_of_dead             539.106959\n",
       "no_of_injured         2865.885411\n",
       "driving_licenses    105210.342377\n",
       "x                        4.191524\n",
       "y                        3.249185\n",
       "dtype: float64"
      ]
     },
     "execution_count": 1330,
     "metadata": {},
     "output_type": "execute_result"
    }
   ],
   "source": [
    "np.std(df_merged)"
   ]
  },
  {
   "cell_type": "markdown",
   "metadata": {},
   "source": [
    "Do your manually calculated standard deviations match up with the output from pandas `describe`? What about numpy's `std` method?"
   ]
  },
  {
   "cell_type": "markdown",
   "metadata": {},
   "source": [
    "### Answer: No, it doesn't match describe but it does match np.std(), the reason for that is because describe divide by n-1 as for numpy it devide by n"
   ]
  },
  {
   "cell_type": "markdown",
   "metadata": {},
   "source": [
    "#### Investigate trends in the data\n",
    "Using sorting and/or masking (along with the `.head` method to not print our entire dataframe), consider the following questions:\n",
    "\n",
    "- Which regions have the highest and lowest Driving Licenses based on years (1993 - 2017)\n",
    "- Which regions have the highest and lowest mean Traffic Accidents numbers for years (2016 - 2017)\n",
    "- What are the regions that have more Driving Licenses issued in each year than the year average?\n",
    "- What are the regions that have more Traffic Accidents happened in each year than the year average?\n",
    "\n",
    "Based on what you've just observed, have you identified any regions that you're especially interested in? **Make a note of these and state *why* you think they're interesting**.\n",
    "\n",
    "**You should comment on your findings at each step in a markdown cell below your code block**. Make sure you include at least one example of sorting your dataframe by a column, and one example of using boolean filtering (i.e., masking) to select a subset of the dataframe."
   ]
  },
  {
   "cell_type": "markdown",
   "metadata": {},
   "source": [
    "**Which regions have the highest and lowest Driving Licenses based on years (1993 - 2017)**"
   ]
  },
  {
   "cell_type": "code",
   "execution_count": 1331,
   "metadata": {},
   "outputs": [
    {
     "name": "stdout",
     "output_type": "stream",
     "text": [
      "highest = 292    Riyadh\n",
      "Name: region, dtype: object\n",
      "Lowest = 210    Tabouk\n",
      "Name: region, dtype: object\n"
     ]
    }
   ],
   "source": [
    "#code\n",
    "print (\"highest = \" + str(licenses.loc[licenses['driving_licenses'] == licenses['driving_licenses'].max()].region))\n",
    "print (\"Lowest = \" + str(licenses.loc[licenses['driving_licenses'] == licenses['driving_licenses'].min()].region))\n"
   ]
  },
  {
   "cell_type": "markdown",
   "metadata": {},
   "source": [
    "**Which regions have the highest and lowest mean Traffic Accidents numbers for years (2016 - 2017)**\n"
   ]
  },
  {
   "cell_type": "code",
   "execution_count": 1332,
   "metadata": {},
   "outputs": [
    {
     "name": "stdout",
     "output_type": "stream",
     "text": [
      "highest mean Traffic Accidents numbers for years (2016 - 2017) : Makkah\n",
      "lowest mean Traffic Accidents numbers for years (2016 - 2017) : Al-Baha\n"
     ]
    }
   ],
   "source": [
    "#code\n",
    "b=traffic.groupby(\"region\").agg({\"no_accidents\" : np.mean})\n",
    "\n",
    "h = pd.DataFrame(b.loc[b['no_accidents'] == b['no_accidents'].max()])\n",
    "print(\"highest mean Traffic Accidents numbers for years (2016 - 2017) : \" + str(h.index[0]))\n",
    "\n",
    "h = pd.DataFrame(b.loc[b['no_accidents'] == b['no_accidents'].min()])\n",
    "print(\"lowest mean Traffic Accidents numbers for years (2016 - 2017) : \"+ str(h.index[0]))\n",
    "\n"
   ]
  },
  {
   "cell_type": "markdown",
   "metadata": {},
   "source": [
    "**What are the regions that have more Driving Licenses issued in each year than the year average?**"
   ]
  },
  {
   "cell_type": "code",
   "execution_count": 1334,
   "metadata": {
    "scrolled": true
   },
   "outputs": [
    {
     "data": {
      "text/plain": [
       "['Eastern', 'Makkah', 'Riyadh']"
      ]
     },
     "execution_count": 1334,
     "metadata": {},
     "output_type": "execute_result"
    }
   ],
   "source": [
    "#code\n",
    "years_mean=df_merged.groupby('year').mean()\n",
    "years_mean=years_mean.reset_index()\n",
    "regions = df_merged['region'].unique()\n",
    "topR =list(regions)\n",
    "\n",
    "for r in regions:\n",
    "        eachR = df_merged.loc[(df_merged['region'] == r )]\n",
    "        eachR = eachR.reset_index()\n",
    "        for index, row in eachR.iterrows():\n",
    "            #retrieve the avrg for each year\n",
    "            RtYear = years_mean.loc[years_mean['year'] == row['year']].driving_licenses\n",
    "            if (row['driving_licenses'] <= float(RtYear)):\n",
    "                topR.remove(row['region'])\n",
    "                break\n",
    "        \n",
    "    \n",
    "topR"
   ]
  },
  {
   "cell_type": "markdown",
   "metadata": {},
   "source": [
    "**What are the regions that have more Traffic Accidents happened in each year than the year average?**"
   ]
  },
  {
   "cell_type": "code",
   "execution_count": 1335,
   "metadata": {},
   "outputs": [
    {
     "data": {
      "text/plain": [
       "['Eastern', 'Makkah', 'Riyadh']"
      ]
     },
     "execution_count": 1335,
     "metadata": {},
     "output_type": "execute_result"
    }
   ],
   "source": [
    "#code\n",
    "years_mean=df_merged.groupby('year').mean()\n",
    "years_mean=years_mean.reset_index()\n",
    "regions = df_merged['region'].unique()\n",
    "topR =list(regions)\n",
    "\n",
    "for r in regions:\n",
    "        eachR = df_merged.loc[(df_merged['region'] == r )]\n",
    "        eachR = eachR.reset_index()\n",
    "        for index, row in eachR.iterrows():\n",
    "            #retrieve the avrg for each year\n",
    "            RtYear = years_mean.loc[years_mean['year'] == row['year']].no_of_accidents\n",
    "            if (row['no_of_accidents'] <= float(RtYear)):\n",
    "                topR.remove(row['region'])\n",
    "                break\n",
    "        \n",
    "    \n",
    "topR"
   ]
  },
  {
   "cell_type": "markdown",
   "metadata": {},
   "source": [
    "## Visualize the data\n",
    "\n",
    "There's not a magic bullet recommendation for the right number of plots to understand a given dataset, but visualizing your data is *always* a good idea. Not only does it allow you to quickly convey your findings (even if you have a non-technical audience), it will often reveal trends in your data that escaped you when you were looking only at numbers.\n",
    "\n",
    "Some recommendations on plotting:\n",
    "- Plots have titles\n",
    "- Plots have axis labels\n",
    "- Plots have appropriate tick labels\n",
    "- All text is legible in a plot\n",
    "- Plots demonstrate meaningful and valid relationships\n",
    "- Plots are interpreted to aid understanding\n",
    "\n",
    "There is such a thing as too many plots, and there are a *lot* of bad plots. You might make some! (But hopefully not with the guided prompts below)."
   ]
  },
  {
   "cell_type": "markdown",
   "metadata": {},
   "source": [
    "#### Use Seaborn's heatmap with pandas `.corr()` to visualize correlations between all numeric features\n",
    "\n",
    "Heatmaps are generally not appropriate for presentations, and should often be excluded from reports as they can be visually overwhelming. **However**, they can be extremely useful in identify relationships of potential interest (as well as identifying potential collinearity before modeling).\n",
    "\n",
    "*example*:\n",
    "```python\n",
    "sns.heatmap(df.corr())\n",
    "```\n",
    "\n",
    "Please take time to format your output, adding a title. Look through some of the additional arguments and options. (Axis labels aren't really necessary, as long as the title is informative)."
   ]
  },
  {
   "cell_type": "code",
   "execution_count": 1336,
   "metadata": {},
   "outputs": [
    {
     "data": {
      "text/plain": [
       "Text(0.5, 1.0, 'correlations between all numeric features')"
      ]
     },
     "execution_count": 1336,
     "metadata": {},
     "output_type": "execute_result"
    },
    {
     "data": {
      "image/png": "[encoded data removed]",
      "text/plain": [
       "<Figure size 720x720 with 2 Axes>"
      ]
     },
     "metadata": {},
     "output_type": "display_data"
    }
   ],
   "source": [
    "plt.figure(figsize=(10,10))\n",
    "corr = df_merged.corr()\n",
    "ax = sns.heatmap(corr, annot=True)\n",
    "ax.set_title(\"correlations between all numeric features\")"
   ]
  },
  {
   "cell_type": "markdown",
   "metadata": {},
   "source": [
    "#### Define a custom function to subplot histograms -->Your own function\n",
    "\n",
    "We should write a function that will take the names of 2+ columns and subplot histograms. While you can use pandas plotting or Seaborn here, matplotlib gives you greater control over all aspects of your plots.\n",
    "\n",
    "[Helpful Link for Plotting Multiple Figures](https://matplotlib.org/users/pyplot_tutorial.html#working-with-multiple-figures-and-axes)\n",
    "\n",
    "Here's some starter code:"
   ]
  },
  {
   "cell_type": "code",
   "execution_count": 1337,
   "metadata": {},
   "outputs": [],
   "source": [
    "def subplot_histograms(dataframe, list_of_columns, list_of_titles, list_of_xlabels):\n",
    "    nrows = int(np.ceil(len(list_of_columns)/2))# Makes sure you have enough rows\n",
    "    fig, ax = plt.subplots(nrows=nrows, ncols=2,figsize=(12,10)) # You'll want to specify your figsize\n",
    "    ax = ax.ravel() # Ravel turns a matrix into a vector, which is easier to iterate\n",
    "    for i, column in enumerate(list_of_columns): # Gives us an index value to get into all our lists\n",
    "        ax[i].hist(dataframe[column]) # feel free to add more settings\n",
    "        ax[i].set_title(list_of_titles[i])\n",
    "        ax[i].set_xlabel(list_of_xlabels[i])# Set titles, labels, etc here for each subplot"
   ]
  },
  {
   "cell_type": "markdown",
   "metadata": {},
   "source": [
    "#### Plot and interpret histograms \n",
    "For each of the following:\n",
    "- Driving Licenses number\n",
    "- Traffic Accidents number\n",
    "\n",
    "Please plot two additional histograms that will help with your understanding of the data"
   ]
  },
  {
   "cell_type": "code",
   "execution_count": 1338,
   "metadata": {},
   "outputs": [
    {
     "data": {
      "image/png": "[encoded data removed]",
      "text/plain": [
       "<Figure size 864x720 with 4 Axes>"
      ]
     },
     "metadata": {},
     "output_type": "display_data"
    }
   ],
   "source": [
    "# Code\n",
    "list_of_columns=['no_of_accidents', 'no_of_dead', 'no_of_injured', 'driving_licenses']\n",
    "list_of_titles=['no_of_accidents', 'no_of_dead', 'no_of_injured', 'driving_licenses']\n",
    "list_of_xlabels=['no_of_accidents', 'no_of_dead', 'no_of_injured', 'driving_licenses']\n",
    "subplot_histograms(df_merged,list_of_columns,list_of_titles,list_of_xlabels)"
   ]
  },
  {
   "cell_type": "markdown",
   "metadata": {},
   "source": [
    "#### Plot and interpret scatter plots\n",
    "\n",
    "For each of the following:\n",
    "- Driving Licenses vs. Traffic Accidents for 2017\n",
    "- Driving Licenses vs. Traffic Accidents for 2016\n",
    "- Driving Licenses for 2016 vs 2017\n",
    "- Traffic Accidents for 2016 vs 2017\n",
    "\n",
    "Plot the two variables against each other using matplotlib or Seaborn\n",
    "\n",
    "Your plots should show:\n",
    "- Two clearly labeled axes\n",
    "- A proper title\n",
    "- Using colors and symbols that are clear and unmistakable\n",
    "\n",
    "**Feel free to write a custom function, and subplot if you'd like.** Functions save both time and space.\n"
   ]
  },
  {
   "cell_type": "code",
   "execution_count": 1339,
   "metadata": {},
   "outputs": [
    {
     "data": {
      "image/png": "[encoded data removed]",
      "text/plain": [
       "<Figure size 432x288 with 1 Axes>"
      ]
     },
     "metadata": {},
     "output_type": "display_data"
    }
   ],
   "source": [
    "# Code\n",
    "#Driving Licenses vs. Traffic Accidents for 2017\n",
    "plt.scatter(df_merged.loc[df_merged['year']==2017,'no_of_accidents'],\n",
    "            df_merged.loc[df_merged['year']==2017,'driving_licenses'])\n",
    "plt.title(' Driving Licenses vs. Traffic Accidents for 2017',fontsize=15)\n",
    "plt.xlabel('Driving Licenses 2017',fontsize=13)\n",
    "plt.ylabel('Traffic Accidents 2017',fontsize=13)\n",
    "plt.show()"
   ]
  },
  {
   "cell_type": "code",
   "execution_count": 1340,
   "metadata": {},
   "outputs": [
    {
     "data": {
      "image/png": "[encoded data removed]",
      "text/plain": [
       "<Figure size 432x288 with 1 Axes>"
      ]
     },
     "metadata": {},
     "output_type": "display_data"
    }
   ],
   "source": [
    "#Driving Licenses vs. Traffic Accidents for 2016\n",
    "plt.scatter(df_merged.loc[df_merged['year']==2016,'no_of_accidents'],\n",
    "            df_merged.loc[df_merged['year']==2016,'driving_licenses'])\n",
    "plt.title(' Driving Licenses vs. Traffic Accidents for 2016',fontsize=15)\n",
    "plt.ylabel('Driving Licenses 2017',fontsize=13)\n",
    "plt.xlabel('Traffic Accidents 2017',fontsize=13)\n",
    "plt.show()"
   ]
  },
  {
   "cell_type": "code",
   "execution_count": 1341,
   "metadata": {},
   "outputs": [
    {
     "data": {
      "image/png": "[encoded data removed]",
      "text/plain": [
       "<Figure size 432x288 with 1 Axes>"
      ]
     },
     "metadata": {},
     "output_type": "display_data"
    }
   ],
   "source": [
    "#Driving Licenses for 2016 vs 2017\n",
    "plt.scatter(df_merged.loc[df_merged['year']==2016,'driving_licenses'],\n",
    "            df_merged.loc[df_merged['year']==2017,'driving_licenses'])\n",
    "plt.title('Driving Licenses for 2016 vs 2017',fontsize=15)\n",
    "plt.xlabel('Driving Licenses 2016',fontsize=13)\n",
    "plt.ylabel('Driving Licenses 2017',fontsize=13)\n",
    "plt.show()"
   ]
  },
  {
   "cell_type": "code",
   "execution_count": 1342,
   "metadata": {},
   "outputs": [
    {
     "data": {
      "image/png": "[encoded data removed]",
      "text/plain": [
       "<Figure size 432x288 with 1 Axes>"
      ]
     },
     "metadata": {},
     "output_type": "display_data"
    }
   ],
   "source": [
    "#Traffic accidents for 2016 vs 2017\n",
    "plt.scatter(df_merged.loc[df_merged['year']==2016,'no_of_accidents'],\n",
    "            df_merged.loc[df_merged['year']==2017,'no_of_accidents'])\n",
    "plt.title('Traffic Accidents for 2016 vs 2017',fontsize=15)\n",
    "plt.xlabel('Traffic Accidents 2016',fontsize=13)\n",
    "plt.ylabel('Traffic Accidents 2017',fontsize=13)\n",
    "plt.show()"
   ]
  },
  {
   "cell_type": "markdown",
   "metadata": {},
   "source": [
    "#### Plot and interpret boxplots\n",
    "\n",
    "For each numeric variable in the dataframe create a boxplot using Seaborn. Boxplots demonstrate central tendency and spread in variables. In a certain sense, these are somewhat redundant with histograms, but you may be better able to identify clear outliers or differences in IQR, etc.\n",
    "\n",
    "Multiple values can be plotted to a single boxplot as long as they are of the same relative scale (meaning they have similar min/max values).\n",
    "\n",
    "Each boxplot should:\n",
    "- Only include variables of a similar scale\n",
    "- Have clear labels for each variable\n",
    "- Have appropriate titles and labels"
   ]
  },
  {
   "cell_type": "code",
   "execution_count": 1343,
   "metadata": {},
   "outputs": [
    {
     "data": {
      "image/png": "[encoded data removed]",
      "text/plain": [
       "<Figure size 432x288 with 1 Axes>"
      ]
     },
     "metadata": {},
     "output_type": "display_data"
    }
   ],
   "source": [
    "from sklearn.preprocessing import StandardScaler\n",
    "scaler = StandardScaler()\n",
    "mm_scaled = scaler.fit_transform(df_merged.iloc[:,2:6])\n",
    "\n",
    "mm_scaled = pd.DataFrame(mm_scaled)\n",
    "mm_scaled.columns = ['no_of_accidents', 'no_of_dead',\n",
    "       'no_of_injured', 'driving_licenses']\n",
    "\n",
    "sns.boxplot(data=mm_scaled);\n",
    "plt.xticks(rotation=40)\n",
    "plt.title('Boxploting all numrical features of Traffic Data in SA',fontsize=14);"
   ]
  },
  {
   "cell_type": "raw",
   "metadata": {},
   "source": [
    "As it's observed from the scaled numrical features boxplots, \n",
    "  -they all have a mean in similar range.\n",
    "  -number of licenses has outliers, while the traffic accidents,\n",
    "   deaths, and injuries numbers are less scaterred."
   ]
  },
  {
   "cell_type": "markdown",
   "metadata": {},
   "source": [
    "#### Feel free to do additional plots below ->Reqiured minimum two\n",
    "*(do research and choose your own chart types & variables)*\n",
    "\n",
    "Are there any additional trends or relationships you haven't explored? Was there something interesting you saw that you'd like to dive further into? It's likely that there are a few more plots you might want to generate to support your narrative and recommendations that you are building toward. **As always, make sure you're interpreting your plots as you go**."
   ]
  },
  {
   "cell_type": "code",
   "execution_count": 1344,
   "metadata": {},
   "outputs": [
    {
     "data": {
      "image/png": "[encoded data removed]",
      "text/plain": [
       "<Figure size 1224x504 with 1 Axes>"
      ]
     },
     "metadata": {},
     "output_type": "display_data"
    }
   ],
   "source": [
    "#Number of accidents per region\n",
    "\n",
    "fig, ax = plt.subplots(figsize=(17,7))\n",
    "\n",
    "ax=sns.set(style=\"whitegrid\", color_codes=True)\n",
    "\n",
    "data = df_merged.groupby(\"region\")['no_of_accidents'].sum() \n",
    "\n",
    "pal = sns.color_palette(\"Greens_d\", len(data))\n",
    "rank = data.argsort().argsort()  \n",
    "sns.barplot(x=data.index, y=data, palette=np.array(pal[::-1])[rank])\n",
    "plt.title(' Traffic accidents for the region',fontsize=15)\n",
    "plt.show()"
   ]
  },
  {
   "cell_type": "markdown",
   "metadata": {},
   "source": [
    "From this histogram plot we can observe that there are three regions \n",
    "which have the highest number of accidents: \n",
    "Makkah, Riyadh, and Eastern respectively."
   ]
  },
  {
   "cell_type": "code",
   "execution_count": 1345,
   "metadata": {},
   "outputs": [
    {
     "data": {
      "image/png": "[encoded data removed]",
      "text/plain": [
       "<Figure size 1224x504 with 1 Axes>"
      ]
     },
     "metadata": {},
     "output_type": "display_data"
    }
   ],
   "source": [
    "#Number of Driving Licenses per region\n",
    "\n",
    "fig, ax = plt.subplots(figsize=(17,7))\n",
    "\n",
    "ax=sns.set(style=\"whitegrid\", color_codes=True)\n",
    "\n",
    "data = df_merged.groupby(\"region\")['driving_licenses'].sum()   # data underlying bar plot in question\n",
    "\n",
    "pal = sns.color_palette(\"Greens_d\", len(data))\n",
    "rank = data.argsort().argsort() \n",
    "sns.barplot(x=data.index, y=data, palette=np.array(pal[::-1])[rank])\n",
    "plt.title(' Driving Licenses for the region',fontsize=15)\n",
    "plt.show()\n"
   ]
  },
  {
   "cell_type": "markdown",
   "metadata": {},
   "source": [
    "From this histogram plot we can conclude that there are\n",
    "three regions which have the highest number of driving licenses:\n",
    "Makkah, Riyadh, and Eastern respectively."
   ]
  },
  {
   "cell_type": "code",
   "execution_count": 1346,
   "metadata": {},
   "outputs": [
    {
     "data": {
      "image/png": "[encoded data removed]",
      "text/plain": [
       "<Figure size 1224x504 with 1 Axes>"
      ]
     },
     "metadata": {},
     "output_type": "display_data"
    }
   ],
   "source": [
    "#Number of accidents per year\n",
    "#The Number of accidents decrease from 2016 to 2017  \n",
    "\n",
    "fig, ax = plt.subplots(figsize=(17,7))\n",
    "\n",
    "ax=sns.set(style=\"whitegrid\", color_codes=True)\n",
    "\n",
    "data = df_merged.groupby(\"year\")['no_of_accidents'].sum()   # data underlying bar plot in question\n",
    "\n",
    "pal = sns.color_palette(\"Greens_d\", len(data))\n",
    "rank = data.argsort().argsort()   # http://stackoverflow.com/a/6266510/1628638\n",
    "sns.barplot(x=data.index, y=data, palette=np.array(pal[::-1])[rank])\n",
    "plt.title(' Traffic accidents for the year',fontsize=15)\n",
    "plt.show()"
   ]
  },
  {
   "cell_type": "markdown",
   "metadata": {},
   "source": [
    "Above figure represent the number of accidents in 2016-2017,\n",
    "as we see it's droped from 2016 to 2017"
   ]
  },
  {
   "cell_type": "code",
   "execution_count": 1347,
   "metadata": {},
   "outputs": [
    {
     "data": {
      "image/png": "[encoded data removed]",
      "text/plain": [
       "<Figure size 1224x504 with 1 Axes>"
      ]
     },
     "metadata": {},
     "output_type": "display_data"
    }
   ],
   "source": [
    "##Number of Driving Licenses per year\n",
    "\n",
    "fig, ax = plt.subplots(figsize=(17,7))\n",
    "\n",
    "ax=sns.set(style=\"whitegrid\", color_codes=True)\n",
    "\n",
    "data = df_merged.groupby(\"year\")['driving_licenses'].sum()   # data underlying bar plot in question\n",
    "\n",
    "pal = sns.color_palette(\"Greens_d\", len(data))\n",
    "rank = data.argsort().argsort()   # http://stackoverflow.com/a/6266510/1628638\n",
    "sns.barplot(x=data.index, y=data, palette=np.array(pal[::-1])[rank])\n",
    "plt.title(' Driving Licenses for the year',fontsize=15)\n",
    "plt.show()"
   ]
  },
  {
   "cell_type": "markdown",
   "metadata": {},
   "source": [
    "Above figure represent the number of driving licenses in 2016-2017,\n",
    "as we see it's increases from 2016 to 2017"
   ]
  },
  {
   "cell_type": "code",
   "execution_count": 1348,
   "metadata": {},
   "outputs": [
    {
     "data": {
      "image/png": "[encoded data removed]",
      "text/plain": [
       "<Figure size 432x288 with 1 Axes>"
      ]
     },
     "metadata": {},
     "output_type": "display_data"
    }
   ],
   "source": [
    "#The number of licenses issued every year and the number of accidents at the same year, for each region.\n",
    "\n",
    "fig, ax = plt.subplots()\n",
    "ax.plot(df_merged.region, df_merged.driving_licenses, label=\"driving licenses\")\n",
    "ax.plot(df_merged.region, df_merged.no_of_accidents, label=\"number of accidents\")\n",
    "ax.plot(df_merged.region, df_merged.no_of_dead, label=\"number of deaths\")\n",
    "ax.plot(df_merged.region, df_merged.no_of_injured, label=\"number of injuries\")\n",
    "\n",
    "plt.xticks(rotation=70);\n",
    "\n",
    "ax.legend()\n",
    "\n",
    "plt.show()"
   ]
  },
  {
   "cell_type": "raw",
   "metadata": {},
   "source": [
    "We understand from this plot that:\n",
    "-As number of  licenses increase the accidents and casualities \n",
    " increase also. Which could inferred that new drivers make more\n",
    " accidents.\n",
    "-The only exception for this tendency are Jazan and Qassim regions.\n",
    " They both have more accidents than issues licenses. Which means their \n",
    " new drivers are the worst.  \n",
    "-On other side, Riyadh, Hail, and Eastern Region are the best in\n",
    " terms of keeping the accidents lower than new issues licenses."
   ]
  },
  {
   "cell_type": "markdown",
   "metadata": {},
   "source": [
    "## Descriptive and Inferential Statistics"
   ]
  },
  {
   "cell_type": "markdown",
   "metadata": {},
   "source": [
    "#### Summarizing Distributions\n",
    "\n",
    "Above, we used pandas `describe` to provide quick summary statistics of our numeric columns. We also demonstrated many visual relationships.\n",
    "\n",
    "As data scientists, having a complete understanding of data is imperative prior to modeling.\n",
    "\n",
    "While we will continue to build our analytic tools, we know that measures of *central tendency*, *spread*, and *shape/skewness* provide a quick summary of distributions.\n",
    "\n",
    "For each variable in your data, summarize the underlying distributions (in words & statistics)\n",
    " - Be thorough in your verbal description of these distributions.\n",
    " - Be sure to back up these summaries with statistics."
   ]
  },
  {
   "cell_type": "markdown",
   "metadata": {},
   "source": [
    "Answers:"
   ]
  },
  {
   "cell_type": "markdown",
   "metadata": {},
   "source": [
    " **Here we will calculate the mean, median, mode, and standard daviation for each variable in the merged dataset**"
   ]
  },
  {
   "cell_type": "code",
   "execution_count": 1349,
   "metadata": {},
   "outputs": [
    {
     "name": "stdout",
     "output_type": "stream",
     "text": [
      "no of accidents Mean:38225.692307692305\n",
      "no of accidents Mode:ModeResult(mode=array([1414]), count=array([1]))\n",
      "no of accidents Median:16050.5\n",
      "no of accidents standard daviation:45590.82869880506\n"
     ]
    },
    {
     "data": {
      "text/plain": [
       "Text(0.5, 1.0, 'no_of_accidents')"
      ]
     },
     "execution_count": 1349,
     "metadata": {},
     "output_type": "execute_result"
    },
    {
     "data": {
      "image/png": "[encoded data removed]",
      "text/plain": [
       "<Figure size 432x288 with 1 Axes>"
      ]
     },
     "metadata": {},
     "output_type": "display_data"
    }
   ],
   "source": [
    "from scipy import stats\n",
    "# no_of_accidents column\n",
    "print(\"no of accidents Mean:\" + str(np.mean(df_merged['no_of_accidents'])))\n",
    "print(\"no of accidents Mode:\" + str(stats.mode(df_merged['no_of_accidents'])))\n",
    "print(\"no of accidents Median:\" + str(np.median(df_merged[df_merged['no_of_accidents'].notnull()]['no_of_accidents'])))\n",
    "print(\"no of accidents standard daviation:\" + str(np.std(df_merged['no_of_accidents'])))\n",
    "\n",
    "\n",
    "df_merged['no_of_accidents'].hist()\n",
    "plt.title(\"no_of_accidents\")"
   ]
  },
  {
   "cell_type": "markdown",
   "metadata": {},
   "source": [
    "The above plot represents the frequency for the number of accidents, as we see the most frequency range is from 0 to 19,000 accidents and the lowest range is 30,000 to 45,000. And the distribution is positively skewed. its also because of the effect of the high values in the main regions compared to the other regions."
   ]
  },
  {
   "cell_type": "code",
   "execution_count": 1350,
   "metadata": {},
   "outputs": [
    {
     "name": "stdout",
     "output_type": "stream",
     "text": [
      "driving_licenses Mean:62507.0\n",
      "driving_licenses Mode:ModeResult(mode=array([2153]), count=array([1]))\n",
      "driving_licenses Median:16085.0\n",
      "driving_licenses standard daviation:105210.34237659337\n"
     ]
    },
    {
     "data": {
      "text/plain": [
       "<AxesSubplot:>"
      ]
     },
     "execution_count": 1350,
     "metadata": {},
     "output_type": "execute_result"
    },
    {
     "data": {
      "image/png": "[encoded data removed]",
      "text/plain": [
       "<Figure size 432x288 with 1 Axes>"
      ]
     },
     "metadata": {},
     "output_type": "display_data"
    }
   ],
   "source": [
    "#driving_licenses column\n",
    "print(\"driving_licenses Mean:\" + str(np.mean(df_merged['driving_licenses'])))\n",
    "print(\"driving_licenses Mode:\" + str(stats.mode(df_merged['driving_licenses'])))\n",
    "print(\"driving_licenses Median:\" + str(np.median(df_merged[df_merged['driving_licenses'].notnull()]['driving_licenses'])))\n",
    "print(\"driving_licenses standard daviation:\" + str(np.std(df_merged['driving_licenses'])))\n",
    "\n",
    "\n",
    "df_merged['driving_licenses'].hist()"
   ]
  },
  {
   "cell_type": "markdown",
   "metadata": {},
   "source": [
    "The above plot represents the frequency for the driving_licenses, as we see the most frequency range is from 0 to 41,000 accidents and the lowest range is 200,000 and 500,000. And the distribution almost positively skewed. its also because of the effect of the high values in the main regions compared to the other regions."
   ]
  },
  {
   "cell_type": "code",
   "execution_count": 1351,
   "metadata": {},
   "outputs": [
    {
     "name": "stdout",
     "output_type": "stream",
     "text": [
      "no_of_dead Mean:635.3846153846154\n",
      "no_of_dead Mode:ModeResult(mode=array([112]), count=array([1]))\n",
      "no_of_dead Median:415.5\n",
      "no_of_dead standard daviation:539.1069593406002\n"
     ]
    },
    {
     "data": {
      "text/plain": [
       "<AxesSubplot:>"
      ]
     },
     "execution_count": 1351,
     "metadata": {},
     "output_type": "execute_result"
    },
    {
     "data": {
      "image/png": "[encoded data removed]",
      "text/plain": [
       "<Figure size 432x288 with 1 Axes>"
      ]
     },
     "metadata": {},
     "output_type": "display_data"
    }
   ],
   "source": [
    "#no_of_dead column\n",
    "print(\"no_of_dead Mean:\" + str(np.mean(df_merged['no_of_dead'])))\n",
    "print(\"no_of_dead Mode:\" + str(stats.mode(df_merged['no_of_dead'])))\n",
    "print(\"no_of_dead Median:\" + str(np.median(df_merged[df_merged['no_of_dead'].notnull()]['no_of_dead'])))\n",
    "print(\"no_of_dead standard daviation:\" + str(np.std(df_merged['no_of_dead'])))\n",
    "\n",
    "\n",
    "df_merged['no_of_dead'].hist()"
   ]
  },
  {
   "cell_type": "markdown",
   "metadata": {},
   "source": [
    "The above plot represents the frequency for the number of dead, in this figure the most frequency range is from 0 to 400 person. And the distribution is positively skewed."
   ]
  },
  {
   "cell_type": "code",
   "execution_count": 1352,
   "metadata": {},
   "outputs": [
    {
     "name": "stdout",
     "output_type": "stream",
     "text": [
      "no_of_injured Mean:2743.0384615384614\n",
      "no_of_injured Mode:ModeResult(mode=array([374]), count=array([1]))\n",
      "no_of_injured Median:1618.5\n",
      "no_of_injured standard daviation:2865.8854113220236\n"
     ]
    },
    {
     "data": {
      "text/plain": [
       "<AxesSubplot:>"
      ]
     },
     "execution_count": 1352,
     "metadata": {},
     "output_type": "execute_result"
    },
    {
     "data": {
      "image/png": "[encoded data removed]",
      "text/plain": [
       "<Figure size 432x288 with 1 Axes>"
      ]
     },
     "metadata": {},
     "output_type": "display_data"
    }
   ],
   "source": [
    "#no_of_dead column\n",
    "print(\"no_of_injured Mean:\" + str(np.mean(df_merged['no_of_injured'])))\n",
    "print(\"no_of_injured Mode:\" + str(stats.mode(df_merged['no_of_injured'])))\n",
    "print(\"no_of_injured Median:\" + str(np.median(df_merged[df_merged['no_of_injured'].notnull()]['no_of_injured'])))\n",
    "print(\"no_of_injured standard daviation:\" + str(np.std(df_merged['no_of_injured'])))\n",
    "\n",
    "\n",
    "df_merged['no_of_injured'].hist()"
   ]
  },
  {
   "cell_type": "markdown",
   "metadata": {},
   "source": [
    "The above plot represents the frequency for the number of dead, in this figure the most frequency range is from 0 to 1700 injured. And the distribution is positively skewed its also because of the effect of the high values in the main regions compared to the other regions."
   ]
  },
  {
   "cell_type": "markdown",
   "metadata": {},
   "source": [
    "#### We generally assuming that data we sample from a population will be normally distributed. Do we observe this trend?"
   ]
  },
  {
   "cell_type": "markdown",
   "metadata": {},
   "source": [
    "Answer:"
   ]
  },
  {
   "cell_type": "markdown",
   "metadata": {},
   "source": [
    "#### After we summarized our variables and visualize them by using histogram plot, now we will do assumption on the merged dataset to figure it out if they are normally distributed by using 'Distplot'."
   ]
  },
  {
   "cell_type": "markdown",
   "metadata": {},
   "source": [
    "Does This Assumption Hold for:\n",
    "    - Driving Licenses\n",
    "    - Traffic Accidents\n",
    "Explain your answers for each distribution and how you think this will affect estimates made from these data."
   ]
  },
  {
   "cell_type": "markdown",
   "metadata": {},
   "source": [
    "Answer:"
   ]
  },
  {
   "cell_type": "markdown",
   "metadata": {},
   "source": [
    "### Driving Licenses:"
   ]
  },
  {
   "cell_type": "code",
   "execution_count": 1353,
   "metadata": {},
   "outputs": [
    {
     "name": "stderr",
     "output_type": "stream",
     "text": [
      "/opt/anaconda3/lib/python3.8/site-packages/seaborn/distributions.py:2551: FutureWarning: `distplot` is a deprecated function and will be removed in a future version. Please adapt your code to use either `displot` (a figure-level function with similar flexibility) or `histplot` (an axes-level function for histograms).\n",
      "  warnings.warn(msg, FutureWarning)\n"
     ]
    },
    {
     "data": {
      "image/png": "[encoded data removed]",
      "text/plain": [
       "<Figure size 576x432 with 1 Axes>"
      ]
     },
     "metadata": {},
     "output_type": "display_data"
    }
   ],
   "source": [
    "fig, ax = plt.subplots(figsize=(8,6))\n",
    "sns.distplot(np.log(df_merged.driving_licenses), bins=40, kde=True)\n",
    "plt.show()"
   ]
  },
  {
   "cell_type": "markdown",
   "metadata": {},
   "source": [
    "We can illustrate from this plot that the spread values are remarkably high. It is also skewed to the right, which means there are a small number of regions that have a very large number of licenses, in the other word the issued number of licenses is more than the average."
   ]
  },
  {
   "cell_type": "markdown",
   "metadata": {},
   "source": [
    "### Traffic Accidents:"
   ]
  },
  {
   "cell_type": "code",
   "execution_count": 1354,
   "metadata": {},
   "outputs": [
    {
     "name": "stderr",
     "output_type": "stream",
     "text": [
      "/opt/anaconda3/lib/python3.8/site-packages/seaborn/distributions.py:2551: FutureWarning: `distplot` is a deprecated function and will be removed in a future version. Please adapt your code to use either `displot` (a figure-level function with similar flexibility) or `histplot` (an axes-level function for histograms).\n",
      "  warnings.warn(msg, FutureWarning)\n"
     ]
    },
    {
     "data": {
      "image/png": "[encoded data removed]",
      "text/plain": [
       "<Figure size 576x432 with 1 Axes>"
      ]
     },
     "metadata": {},
     "output_type": "display_data"
    }
   ],
   "source": [
    "fig, ax = plt.subplots(figsize=(8,6))\n",
    "sns.distplot(np.log(df_merged.no_of_accidents), bins=40, kde=True)\n",
    "plt.show()"
   ]
  },
  {
   "cell_type": "markdown",
   "metadata": {},
   "source": [
    "Here we can see from these measures that the spread values are also very high. and the distribution is skewed to the left, meaning that is more weight in the left which means less number of accidents than the mean."
   ]
  },
  {
   "cell_type": "markdown",
   "metadata": {},
   "source": [
    "## Outside Research"
   ]
  },
  {
   "cell_type": "markdown",
   "metadata": {},
   "source": [
    "Based upon your observations, choose **three** regions that demonstrate interesting trends in the number of driving licenses and traffic accidents. Spend some time doing outside research on provincial and central policies that might influence these rates, and summarize your findings below. **Feel free to go back and create new plots that highlight these states of interest**. If you bring in any outside tables or charts, make sure you are explicit about having borrowed them. If you quote any text, make sure that it renders as being quoted. (Make sure that you cite your sources -- check with you local instructor for citation preferences)."
   ]
  },
  {
   "cell_type": "markdown",
   "metadata": {},
   "source": [
    "Answer:\n",
    "### Blog Post \n",
    "https://muneera-alhajri1997.medium.com/driving-licenses-traffic-accidents-and-casualties-analysis-in-2019-3ee5f7f8df72"
   ]
  },
  {
   "cell_type": "markdown",
   "metadata": {},
   "source": [
    "## Conclusions and Recommendations"
   ]
  },
  {
   "cell_type": "markdown",
   "metadata": {},
   "source": [
    "I think with more informative features, we can come up with a more informative analysis such as the cause of accidents, price of fuel (because there was a significant change after implementing VAT and increasing fuel prices [3]), and more year data for accidents to look at how ‘Saher’ affects the number of accidents.\n",
    "We can conclude that some of the regions have a large population so the number of licenses may not be affected by the new law. We need to have strict laws, and processes that simplify the way to apply this law. In order to prevent any loss, social awareness campaigns are necessary to remind people that they must follow the rules and respect the road and other drivers.\n"
   ]
  },
  {
   "cell_type": "markdown",
   "metadata": {},
   "source": [
    "## References"
   ]
  },
  {
   "cell_type": "markdown",
   "metadata": {},
   "source": [
    "[1]:Driving Licenses Issued By Administrative Area https://www.stats.gov.sa/en/258"
   ]
  },
  {
   "cell_type": "markdown",
   "metadata": {},
   "source": [
    "[2]:Traffic Accidents and Casualties by Region https://www.stats.gov.sa/en/1020"
   ]
  },
  {
   "cell_type": "markdown",
   "metadata": {},
   "source": [
    "[3]: Science Direct\n",
    "https://www.sciencedirect.com/science/article/pii/S2352646718300553"
   ]
  }
 ],
 "metadata": {
  "anaconda-cloud": {},
  "kernelspec": {
   "display_name": "Python 3",
   "language": "python",
   "name": "python3"
  },
  "language_info": {
   "codemirror_mode": {
    "name": "ipython",
    "version": 3
   },
   "file_extension": ".py",
   "mimetype": "text/x-python",
   "name": "python",
   "nbconvert_exporter": "python",
   "pygments_lexer": "ipython3",
   "version": "3.8.5"
  }
 },
 "nbformat": 4,
 "nbformat_minor": 2
}
